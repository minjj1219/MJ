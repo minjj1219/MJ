{
 "cells": [
  {
   "cell_type": "code",
   "execution_count": null,
   "metadata": {},
   "outputs": [],
   "source": []
  },
  {
   "cell_type": "markdown",
   "metadata": {},
   "source": [
    "제목\n",
    "=======\n",
    "\n",
    "부제목\n",
    "------\n",
    "\n",
    "# h1\n",
    "### h3\n",
    "###### h6\n",
    "\n",
    "> content1\n",
    ">  > content2\n",
    ">  >  >content3(인용문 or 특수메세지)\n",
    "\n",
    "\n"
   ]
  },
  {
   "cell_type": "markdown",
   "metadata": {},
   "source": [
    "## list\n",
    "\n",
    "1. 첫번째\n",
    "2. 두번째\n",
    "3. 세번째\n",
    "\n",
    "* 리스트1\n",
    "    + 리스트2\n",
    "        - 리스트3 (탭하면 서브리스트 생성)"
   ]
  },
  {
   "cell_type": "markdown",
   "metadata": {},
   "source": [
    "### code\n",
    "\n",
    "```python\n",
    "i = 0\n",
    "i + 1\n",
    "print(i)\n",
    "```\n",
    "\n",
    "code end"
   ]
  },
  {
   "cell_type": "markdown",
   "metadata": {},
   "source": [
    "----------\n",
    "\n",
    "***********\n",
    "\n"
   ]
  },
  {
   "cell_type": "markdown",
   "metadata": {},
   "source": [
    "[Google][googlelink]\n",
    "\n",
    "[googlelink]:http://www.google.com"
   ]
  },
  {
   "cell_type": "markdown",
   "metadata": {},
   "source": [
    "![Alt text](https://postfiles.pstatic.net/20131104_11/mastykim_13835019534733pvNe_JPEG/%B8%BB%C6%BC%C1%EE_%BA%D0%BE%E7_%281%29.JPG?type=w2)"
   ]
  },
  {
   "cell_type": "markdown",
   "metadata": {},
   "source": [
    "![Alt text](https://postfiles.pstatic.net/20131104_11/mastykim_13835019534733pvNe_JPEG/%B8%BB%C6%BC%C1%EE_%BA%D0%BE%E7_%281%29.JPG?type=w2)\n",
    "\n",
    "<img src=\"https://postfiles.pstatic.net/20131104_11/mastykim_13835019534733pvNe_JPEG/%B8%BB%C6%BC%C1%EE_%BA%D0%BE%E7_%281%29.JPG?type=w2\" width=\"40%\">"
   ]
  },
  {
   "cell_type": "markdown",
   "metadata": {},
   "source": []
  }
 ],
 "metadata": {
  "language_info": {
   "name": "python"
  },
  "orig_nbformat": 4
 },
 "nbformat": 4,
 "nbformat_minor": 2
}
