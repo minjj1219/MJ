{
 "cells": [
  {
   "cell_type": "code",
   "execution_count": 15,
   "metadata": {},
   "outputs": [],
   "source": [
    "import pymysql\n"
   ]
  },
  {
   "cell_type": "code",
   "execution_count": 16,
   "metadata": {},
   "outputs": [],
   "source": [
    "sample_db = pymysql.connect(\n",
    "    user = \"root\",\n",
    "    passwd = \"2369\",\n",
    "    host = \"localhost\",\n",
    "    db = \"ubion\",\n",
    "    charset = \"utf8\"\n",
    "    )\n"
   ]
  },
  {
   "cell_type": "code",
   "execution_count": null,
   "metadata": {},
   "outputs": [],
   "source": []
  },
  {
   "cell_type": "code",
   "execution_count": 17,
   "metadata": {},
   "outputs": [],
   "source": [
    "cursor = sample_db.cursor(pymysql.cursors.DictCursor)"
   ]
  },
  {
   "cell_type": "code",
   "execution_count": 10,
   "metadata": {},
   "outputs": [
    {
     "name": "stdout",
     "output_type": "stream",
     "text": [
      "[{'post_id': 'test', 'password': '1234'}, {'post_id': 'test6', 'password': '1234'}]\n"
     ]
    }
   ],
   "source": [
    "sql = \"SELECT * FROM base1\"\n",
    "\n",
    "cursor.execute(sql)\n",
    "result = cursor.fetchall()\n",
    "print(result)"
   ]
  },
  {
   "cell_type": "code",
   "execution_count": 9,
   "metadata": {},
   "outputs": [
    {
     "data": {
      "text/plain": [
       "1"
      ]
     },
     "execution_count": 9,
     "metadata": {},
     "output_type": "execute_result"
    }
   ],
   "source": [
    "sql = \"INSERT INTO base1 values ('test6','1234')\"\n",
    "\n",
    "cursor.execute(sql)"
   ]
  },
  {
   "cell_type": "markdown",
   "metadata": {},
   "source": []
  },
  {
   "cell_type": "code",
   "execution_count": 20,
   "metadata": {},
   "outputs": [
    {
     "data": {
      "text/plain": [
       "1"
      ]
     },
     "execution_count": 20,
     "metadata": {},
     "output_type": "execute_result"
    }
   ],
   "source": [
    "sql = \"INSERT INTO base1 values ('test4','1234')\"\n",
    "\n",
    "cursor.execute(sql)"
   ]
  },
  {
   "cell_type": "code",
   "execution_count": 21,
   "metadata": {},
   "outputs": [
    {
     "data": {
      "text/plain": [
       "1"
      ]
     },
     "execution_count": 21,
     "metadata": {},
     "output_type": "execute_result"
    }
   ],
   "source": [
    "sql = \"INSERT INTO base1 values ('test5','1234')\"\n",
    "\n",
    "cursor.execute(sql)"
   ]
  },
  {
   "cell_type": "code",
   "execution_count": 22,
   "metadata": {},
   "outputs": [
    {
     "data": {
      "text/plain": [
       "1"
      ]
     },
     "execution_count": 22,
     "metadata": {},
     "output_type": "execute_result"
    }
   ],
   "source": [
    "sql = \"INSERT INTO base1 values ('test2','1234')\"\n",
    "\n",
    "cursor.execute(sql)"
   ]
  },
  {
   "cell_type": "code",
   "execution_count": 23,
   "metadata": {},
   "outputs": [
    {
     "data": {
      "text/plain": [
       "1"
      ]
     },
     "execution_count": 23,
     "metadata": {},
     "output_type": "execute_result"
    }
   ],
   "source": [
    "sql = \"INSERT INTO base1 values ('test3','1234')\"\n",
    "\n",
    "cursor.execute(sql)"
   ]
  },
  {
   "cell_type": "code",
   "execution_count": null,
   "metadata": {},
   "outputs": [],
   "source": []
  },
  {
   "cell_type": "code",
   "execution_count": null,
   "metadata": {},
   "outputs": [],
   "source": []
  },
  {
   "cell_type": "code",
   "execution_count": 12,
   "metadata": {},
   "outputs": [],
   "source": [
    "sample_db.commit()\n",
    "sample_db.close()"
   ]
  },
  {
   "cell_type": "code",
   "execution_count": 18,
   "metadata": {},
   "outputs": [
    {
     "data": {
      "text/plain": [
       "1"
      ]
     },
     "execution_count": 18,
     "metadata": {},
     "output_type": "execute_result"
    }
   ],
   "source": [
    "update_sql = \"UPDATE base1 SET post_id = 'test1' where post_id = 'test'\"\n",
    "\n",
    "cursor.execute(update_sql)"
   ]
  },
  {
   "cell_type": "code",
   "execution_count": 25,
   "metadata": {},
   "outputs": [
    {
     "name": "stdout",
     "output_type": "stream",
     "text": [
      "[{'post_id': 'test6', 'password': '1234'}, {'post_id': 'test5', 'password': '1234'}, {'post_id': 'test4', 'password': '1234'}, {'post_id': 'test3', 'password': '1234'}, {'post_id': 'test2', 'password': '1234'}, {'post_id': 'test1', 'password': '1234'}, {'post_id': '', 'password': '2345'}]\n"
     ]
    }
   ],
   "source": [
    "select_sql= \"SELECT * FROM base1 ORDER BY post_id DESC\"\n",
    "\n",
    "cursor.execute(select_sql)\n",
    "result = cursor.fetchall()\n",
    "print(result)"
   ]
  },
  {
   "cell_type": "code",
   "execution_count": 29,
   "metadata": {},
   "outputs": [
    {
     "name": "stdout",
     "output_type": "stream",
     "text": [
      "[{'post_id': '', 'password': '2345', 'phone': None}, {'post_id': 'test1', 'password': '1234', 'phone': None}, {'post_id': 'test2', 'password': '1234', 'phone': None}, {'post_id': 'test3', 'password': '1234', 'phone': None}, {'post_id': 'test4', 'password': '1234', 'phone': None}, {'post_id': 'test5', 'password': '1234', 'phone': None}, {'post_id': 'test6', 'password': '1234', 'phone': None}]\n"
     ]
    }
   ],
   "source": [
    "select_sql= \"SELECT base1.post_id, base1.password, base2.phone FROM base1 LEFT JOIN base2 ON base1.post_id = base2.post_id\"\n",
    "\n",
    "cursor.execute(select_sql)\n",
    "result = cursor.fetchall()\n",
    "print(result)"
   ]
  },
  {
   "cell_type": "code",
   "execution_count": 30,
   "metadata": {},
   "outputs": [
    {
     "name": "stdout",
     "output_type": "stream",
     "text": [
      "[{'password': '2345', 'cnt': 1}, {'password': '1234', 'cnt': 6}]\n"
     ]
    }
   ],
   "source": [
    "select_sql= 'SELECT password, COUNT(password) as cnt FROM base1 GROUP BY password'\n",
    "\n",
    "cursor.execute(select_sql)\n",
    "result = cursor.fetchall()\n",
    "print(result)"
   ]
  },
  {
   "cell_type": "code",
   "execution_count": null,
   "metadata": {},
   "outputs": [],
   "source": [
    "# INT는 옵션으로 AUTO_INCREMENT 지정 가능 -> 데이터가 입력될 때 자동으로 값이 1개씩 증가되는 컬럼의 속성\n",
    "# 부동 소수점 타입 -> FLOAT, DOUBLE\n",
    "# FLOAT 4바이트 DOUBLE 8바이트\n",
    "# 더 정확한 수를 위해서는 DOUBLE 사용\n",
    "# 문자열 데이터 저장 -> CHAR, VARCHAR\n",
    "# CHAR는 문자열 길이가 한번 설정되면 그대로 고정\n",
    "# VARCHAR는 문자열을 길이가 고정되지 않는 가변 길이의 문자열로 다룸\n",
    "# TEXT는 길이 제한 명시하지 않음, 기본값 지정 불가"
   ]
  },
  {
   "cell_type": "code",
   "execution_count": null,
   "metadata": {},
   "outputs": [],
   "source": [
    "# PRIMARY KEY: 기본키로 지정(테이블 당 1개 필수조건) \n",
    "# -> 중복없는 유일한 값을 가져야함 \n",
    "# -> NULL값을 가질 수 없음 \n",
    "# -> 변경될 수 있는 경우가 없어야함\n",
    "# FOREIGN KEY: 다른 테이블과의 연결고리"
   ]
  },
  {
   "cell_type": "code",
   "execution_count": null,
   "metadata": {},
   "outputs": [],
   "source": []
  }
 ],
 "metadata": {
  "interpreter": {
   "hash": "178a3f30f1260fd802957bede53c671b8ea3e1a8feec185343992868dc57f060"
  },
  "kernelspec": {
   "display_name": "Python 3.10.2 64-bit",
   "language": "python",
   "name": "python3"
  },
  "language_info": {
   "codemirror_mode": {
    "name": "ipython",
    "version": 3
   },
   "file_extension": ".py",
   "mimetype": "text/x-python",
   "name": "python",
   "nbconvert_exporter": "python",
   "pygments_lexer": "ipython3",
   "version": "3.10.2"
  },
  "orig_nbformat": 4
 },
 "nbformat": 4,
 "nbformat_minor": 2
}
