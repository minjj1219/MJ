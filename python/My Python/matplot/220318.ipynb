{
 "cells": [
  {
   "cell_type": "code",
   "execution_count": 1,
   "metadata": {},
   "outputs": [],
   "source": [
    "import numpy as np\n",
    "import matplotlib.pyplot as plt\n",
    "\n",
    "#https://spacecollection.co.kr/9 모르는 내용 참고"
   ]
  },
  {
   "cell_type": "code",
   "execution_count": 2,
   "metadata": {},
   "outputs": [
    {
     "data": {
      "text/plain": [
       "array([10, 20, 30, 40, 50, 60, 70, 80, 90])"
      ]
     },
     "execution_count": 2,
     "metadata": {},
     "output_type": "execute_result"
    }
   ],
   "source": [
    "x = np.array([10, 20, 30, 40, 50, 60, 70, 80, 90])\n",
    "x"
   ]
  },
  {
   "cell_type": "code",
   "execution_count": 3,
   "metadata": {},
   "outputs": [
    {
     "data": {
      "text/plain": [
       "array([10, 30, 50, 70, 90])"
      ]
     },
     "execution_count": 3,
     "metadata": {},
     "output_type": "execute_result"
    }
   ],
   "source": [
    "#짝수번째만 출력\n",
    "# [시작값:종료값:증가값]\n",
    "x_ = np.array(x[0:9:2])\n",
    "x_"
   ]
  },
  {
   "cell_type": "markdown",
   "metadata": {},
   "source": [
    "## np.linspace(시작값, 끝값, 분할값)\n",
    "\n",
    "a와 b사이에 c개의 점을 생성하기 위한 명령어입니다.\n",
    "\n",
    "만약에 c가 생략될 경우 → linspace(a, b) 100개의 일정한 등간격을 가진 행 벡터가 생성됩니다.\n"
   ]
  },
  {
   "cell_type": "code",
   "execution_count": 62,
   "metadata": {},
   "outputs": [
    {
     "data": {
      "image/png": "[encoded data removed]",
      "text/plain": [
       "<Figure size 432x288 with 1 Axes>"
      ]
     },
     "metadata": {
      "needs_background": "light"
     },
     "output_type": "display_data"
    }
   ],
   "source": [
    "# linspace : 설정한 범위에서 선형적으로 분할한 위치의 값 출력\n",
    "# np.linspace(시작값, 끝값, 분할값)\n",
    "x = np.linspace(0, 10, 3)\n",
    "plt.plot(x)\n",
    "plt.show()"
   ]
  },
  {
   "cell_type": "markdown",
   "metadata": {},
   "source": [
    "## np.logspace(a,b,c)\n",
    "logspace : 설정한 범위에서 로그로 분할한 위치의 값 출력\n",
    "\n",
    "a, b, c 을 log scale 등간격인 행 벡터를 생성하는  명령어입니다.\n",
    "\n",
    "아례 예제처럼 log^a와 log^b 사이에 등간격인 c개의 행벡터를 생성합니다\n",
    "\n",
    "만약에 c가 생략될 경우 → logspace(a, b) 50개의 일정한 등간격을 가진 행 벡터가 생성됩니다."
   ]
  },
  {
   "cell_type": "code",
   "execution_count": 6,
   "metadata": {},
   "outputs": [
    {
     "data": {
      "image/png": "[encoded data removed]",
      "text/plain": [
       "<Figure size 432x288 with 1 Axes>"
      ]
     },
     "metadata": {
      "needs_background": "light"
     },
     "output_type": "display_data"
    }
   ],
   "source": [
    "\n",
    "x = np.logspace(2, 10, 50)\n",
    "plt.plot(x)\n",
    "plt.show()"
   ]
  },
  {
   "cell_type": "markdown",
   "metadata": {},
   "source": [
    "## NumPy random\n",
    "\n",
    "데이터를 생성할 때 랜덤하게 섞거나 임의의 수를 발생시키는 NumPy의 random 서브 패키지로 제공됩니다.\n",
    "\n",
    "서브 패키지이기 때문에 앞에 항상 np.random.을 써주어야 합니다. \n"
   ]
  },
  {
   "cell_type": "markdown",
   "metadata": {},
   "source": [
    "1. 시드값\n",
    "    seed : 랜덤의 시작값을 설정\n",
    "\n",
    "2. 난수 생성\n",
    "    rand : 균등분포로 난수를 발생(0부터 1 사이)\n",
    "    randn : 정규분포로 난수를 발생 (가우시안의 표준 정규 분포)\n",
    "    randint : 균등분포로 정수값을 발생 (균일 분포의 정수 난수)\n",
    "\n",
    "3. 데이터 순서바꾸기\n",
    "    shuffle : 행렬 데이터를 섞어줌\n",
    "    \n",
    "4. 데이터 샘플링\n",
    "    choice : 특정 확률로 데이터를 선택"
   ]
  },
  {
   "cell_type": "code",
   "execution_count": 8,
   "metadata": {},
   "outputs": [
    {
     "data": {
      "text/plain": [
       "(array([47, 22, 82, 19, 85, 15, 89, 74, 26, 11]),\n",
       " array([47, 22, 82, 19, 85, 15, 89, 74, 26, 11]),\n",
       " array([50, 25, 82, 32, 53, 92, 85, 17, 44, 59]))"
      ]
     },
     "execution_count": 8,
     "metadata": {},
     "output_type": "execute_result"
    }
   ],
   "source": [
    "# seed는 객체를 바꾸어주는 함수이기 때문에 1 동일한 숫자를 넣었을 경우\n",
    "# randint로 출력되는 값이 같다는 걸 알 수 있다.\n",
    "\n",
    "np.random.seed(1)\n",
    "result = np.random.randint(10, 100, 10)\n",
    "np.random.seed(1)\n",
    "result_1 = np.random.randint(10,100,10)\n",
    "np.random.seed(2)\n",
    "result_2 = np.random.randint(10,100,10)\n",
    "\n",
    "result, result_1, result_2"
   ]
  },
  {
   "cell_type": "code",
   "execution_count": 10,
   "metadata": {},
   "outputs": [
    {
     "data": {
      "text/plain": [
       "array([0.85397529, 0.49423684, 0.84656149, 0.07964548, 0.50524609,\n",
       "       0.0652865 , 0.42812233, 0.09653092, 0.12715997, 0.59674531])"
      ]
     },
     "execution_count": 10,
     "metadata": {},
     "output_type": "execute_result"
    }
   ],
   "source": [
    "# 0과 1사이에서 랜덤\n",
    "# 괄호 안에 들어가는 숫자는 난수의 크기\n",
    "np.random.rand(10)"
   ]
  },
  {
   "cell_type": "code",
   "execution_count": 9,
   "metadata": {},
   "outputs": [
    {
     "data": {
      "text/plain": [
       "array([ 0.50288142, -1.24528809, -1.05795222, -0.90900761,  0.55145404,\n",
       "        2.29220801,  0.04153939, -1.11792545,  0.53905832, -0.5961597 ])"
      ]
     },
     "execution_count": 9,
     "metadata": {},
     "output_type": "execute_result"
    }
   ],
   "source": [
    "\n",
    "np.random.randn(10)"
   ]
  },
  {
   "cell_type": "code",
   "execution_count": 13,
   "metadata": {},
   "outputs": [
    {
     "data": {
      "text/plain": [
       "array([[27,  9, 77, 11],\n",
       "       [41, 35, 61, 10],\n",
       "       [71, 87, 71, 20]])"
      ]
     },
     "execution_count": 13,
     "metadata": {},
     "output_type": "execute_result"
    }
   ],
   "source": [
    "# a에서 시작하여 b-1까지 난수를 발생시키며, 괄호 안은 행렬의 size를 말합니다. \n",
    "# np.random.randint(a, b, (행, 열))\n",
    "\n",
    "r = np.random.randint(1, 100 , (3,4))\n",
    "r"
   ]
  },
  {
   "cell_type": "code",
   "execution_count": 20,
   "metadata": {},
   "outputs": [
    {
     "data": {
      "text/plain": [
       "array([[71, 87, 71, 20],\n",
       "       [27,  9, 77, 11],\n",
       "       [41, 35, 61, 10]])"
      ]
     },
     "execution_count": 20,
     "metadata": {},
     "output_type": "execute_result"
    }
   ],
   "source": [
    "# shuffle - 행바꾸기\n",
    "np.random.shuffle(r)\n",
    "r"
   ]
  },
  {
   "cell_type": "markdown",
   "metadata": {},
   "source": [
    "4_ 데이터 샘플링 (data sampling)\n",
    "\n",
    "choice : 특정 확률로 데이터를 선택합니다.  \n",
    "사용법\n",
    ": np.numpy.choice(a, size=None, replace=True, p=none) \n",
    "\n",
    "- a : 배열이면 이미 있는 데이터로, 정수라면 arange(a) 함수 명령을 통해 데이터를 만듭니다. \n",
    "\n",
    "- size : 샘플을 원하는 갯수\n",
    "\n",
    "- replace : boolean 으로 true일 경우 선택되었더라 하더라도 데이터를 다시 선택할 수 있습니다.\n",
    "\n",
    "- p : 각 데이터가 선택 될 수 있는 확률입니다 ( 주사위가 각 면이 나올 확률이 1/6인 것 처럼) "
   ]
  },
  {
   "cell_type": "code",
   "execution_count": 63,
   "metadata": {},
   "outputs": [
    {
     "data": {
      "text/plain": [
       "array([2, 2, 0, 3, 2, 2, 0, 2, 2, 2])"
      ]
     },
     "execution_count": 63,
     "metadata": {},
     "output_type": "execute_result"
    }
   ],
   "source": [
    "np.random.choice(5,10, p=[0.1,0,0.4,0.2,0.3])"
   ]
  },
  {
   "cell_type": "code",
   "execution_count": 21,
   "metadata": {},
   "outputs": [
    {
     "data": {
      "text/plain": [
       "array([1., 3., 5., 7.])"
      ]
     },
     "execution_count": 21,
     "metadata": {},
     "output_type": "execute_result"
    }
   ],
   "source": [
    "# sqrt 제곱근\n",
    "a = [1, 9, 25, 49]\n",
    "a_sqrt = np.sqrt(a)\n",
    "a_sqrt"
   ]
  },
  {
   "cell_type": "code",
   "execution_count": 22,
   "metadata": {},
   "outputs": [
    {
     "data": {
      "text/plain": [
       "array([ 1,  9, 25, 49])"
      ]
     },
     "execution_count": 22,
     "metadata": {},
     "output_type": "execute_result"
    }
   ],
   "source": [
    "# square 제곱\n",
    "a = [1,3,5,7]\n",
    "a_sq = np.square(a)\n",
    "a_sq"
   ]
  },
  {
   "cell_type": "code",
   "execution_count": 23,
   "metadata": {},
   "outputs": [
    {
     "data": {
      "text/plain": [
       "1.0"
      ]
     },
     "execution_count": 23,
     "metadata": {},
     "output_type": "execute_result"
    }
   ],
   "source": [
    "# numpy.exp() 함수는 밑이 자연상수 e인 지수함수(e^x)로 변환해줌\n",
    "\n",
    "np.exp(0)"
   ]
  },
  {
   "cell_type": "code",
   "execution_count": 24,
   "metadata": {},
   "outputs": [
    {
     "data": {
      "text/plain": [
       "54.598150033144236"
      ]
     },
     "execution_count": 24,
     "metadata": {},
     "output_type": "execute_result"
    }
   ],
   "source": [
    "np.exp(4)"
   ]
  },
  {
   "cell_type": "code",
   "execution_count": 26,
   "metadata": {},
   "outputs": [
    {
     "data": {
      "text/plain": [
       "array([-5. , -4.9, -4.8, -4.7, -4.6, -4.5, -4.4, -4.3, -4.2, -4.1, -4. ,\n",
       "       -3.9, -3.8, -3.7, -3.6, -3.5, -3.4, -3.3, -3.2, -3.1, -3. , -2.9,\n",
       "       -2.8, -2.7, -2.6, -2.5, -2.4, -2.3, -2.2, -2.1, -2. , -1.9, -1.8,\n",
       "       -1.7, -1.6, -1.5, -1.4, -1.3, -1.2, -1.1, -1. , -0.9, -0.8, -0.7,\n",
       "       -0.6, -0.5, -0.4, -0.3, -0.2, -0.1,  0. ,  0.1,  0.2,  0.3,  0.4,\n",
       "        0.5,  0.6,  0.7,  0.8,  0.9,  1. ,  1.1,  1.2,  1.3,  1.4,  1.5,\n",
       "        1.6,  1.7,  1.8,  1.9,  2. ,  2.1,  2.2,  2.3,  2.4,  2.5,  2.6,\n",
       "        2.7,  2.8,  2.9,  3. ,  3.1,  3.2,  3.3,  3.4,  3.5,  3.6,  3.7,\n",
       "        3.8,  3.9,  4. ,  4.1,  4.2,  4.3,  4.4,  4.5,  4.6,  4.7,  4.8,\n",
       "        4.9,  5. ])"
      ]
     },
     "execution_count": 26,
     "metadata": {},
     "output_type": "execute_result"
    }
   ],
   "source": [
    "x = np.linspace(-5, 5, 101)\n",
    "x\n"
   ]
  },
  {
   "cell_type": "code",
   "execution_count": 27,
   "metadata": {},
   "outputs": [
    {
     "data": {
      "text/plain": [
       "array([1.48671951e-06, 2.43896075e-06, 3.96129909e-06, 6.36982518e-06,\n",
       "       1.01408521e-05, 1.59837411e-05, 2.49424713e-05, 3.85351967e-05,\n",
       "       5.89430678e-05, 8.92616572e-05, 1.33830226e-04, 1.98655471e-04,\n",
       "       2.91946926e-04, 4.24780271e-04, 6.11901930e-04, 8.72682695e-04,\n",
       "       1.23221917e-03, 1.72256894e-03, 2.38408820e-03, 3.26681906e-03,\n",
       "       4.43184841e-03, 5.95253242e-03, 7.91545158e-03, 1.04209348e-02,\n",
       "       1.35829692e-02, 1.75283005e-02, 2.23945303e-02, 2.83270377e-02,\n",
       "       3.54745928e-02, 4.39835960e-02, 5.39909665e-02, 6.56158148e-02,\n",
       "       7.89501583e-02, 9.40490774e-02, 1.10920835e-01, 1.29517596e-01,\n",
       "       1.49727466e-01, 1.71368592e-01, 1.94186055e-01, 2.17852177e-01,\n",
       "       2.41970725e-01, 2.66085250e-01, 2.89691553e-01, 3.12253933e-01,\n",
       "       3.33224603e-01, 3.52065327e-01, 3.68270140e-01, 3.81387815e-01,\n",
       "       3.91042694e-01, 3.96952547e-01, 3.98942280e-01, 3.96952547e-01,\n",
       "       3.91042694e-01, 3.81387815e-01, 3.68270140e-01, 3.52065327e-01,\n",
       "       3.33224603e-01, 3.12253933e-01, 2.89691553e-01, 2.66085250e-01,\n",
       "       2.41970725e-01, 2.17852177e-01, 1.94186055e-01, 1.71368592e-01,\n",
       "       1.49727466e-01, 1.29517596e-01, 1.10920835e-01, 9.40490774e-02,\n",
       "       7.89501583e-02, 6.56158148e-02, 5.39909665e-02, 4.39835960e-02,\n",
       "       3.54745928e-02, 2.83270377e-02, 2.23945303e-02, 1.75283005e-02,\n",
       "       1.35829692e-02, 1.04209348e-02, 7.91545158e-03, 5.95253242e-03,\n",
       "       4.43184841e-03, 3.26681906e-03, 2.38408820e-03, 1.72256894e-03,\n",
       "       1.23221917e-03, 8.72682695e-04, 6.11901930e-04, 4.24780271e-04,\n",
       "       2.91946926e-04, 1.98655471e-04, 1.33830226e-04, 8.92616572e-05,\n",
       "       5.89430678e-05, 3.85351967e-05, 2.49424713e-05, 1.59837411e-05,\n",
       "       1.01408521e-05, 6.36982518e-06, 3.96129909e-06, 2.43896075e-06,\n",
       "       1.48671951e-06])"
      ]
     },
     "execution_count": 27,
     "metadata": {},
     "output_type": "execute_result"
    }
   ],
   "source": [
    "y = (1/np.sqrt(2 * np.pi)) * np.exp(-x**2/2)\n",
    "y"
   ]
  },
  {
   "cell_type": "code",
   "execution_count": 28,
   "metadata": {},
   "outputs": [
    {
     "data": {
      "image/png": "[encoded data removed]",
      "text/plain": [
       "<Figure size 432x288 with 1 Axes>"
      ]
     },
     "metadata": {
      "needs_background": "light"
     },
     "output_type": "display_data"
    }
   ],
   "source": [
    "plt.plot(x, y)\n",
    "plt.xlabel(\"x\")\n",
    "plt.ylabel(\"y\")\n",
    "plt.show()"
   ]
  },
  {
   "cell_type": "code",
   "execution_count": 30,
   "metadata": {},
   "outputs": [],
   "source": [
    "import scipy.stats as stats"
   ]
  },
  {
   "cell_type": "code",
   "execution_count": 31,
   "metadata": {},
   "outputs": [
    {
     "data": {
      "text/plain": [
       "array([1.48671951e-06, 2.43896075e-06, 3.96129909e-06, 6.36982518e-06,\n",
       "       1.01408521e-05, 1.59837411e-05, 2.49424713e-05, 3.85351967e-05,\n",
       "       5.89430678e-05, 8.92616572e-05, 1.33830226e-04, 1.98655471e-04,\n",
       "       2.91946926e-04, 4.24780271e-04, 6.11901930e-04, 8.72682695e-04,\n",
       "       1.23221917e-03, 1.72256894e-03, 2.38408820e-03, 3.26681906e-03,\n",
       "       4.43184841e-03, 5.95253242e-03, 7.91545158e-03, 1.04209348e-02,\n",
       "       1.35829692e-02, 1.75283005e-02, 2.23945303e-02, 2.83270377e-02,\n",
       "       3.54745928e-02, 4.39835960e-02, 5.39909665e-02, 6.56158148e-02,\n",
       "       7.89501583e-02, 9.40490774e-02, 1.10920835e-01, 1.29517596e-01,\n",
       "       1.49727466e-01, 1.71368592e-01, 1.94186055e-01, 2.17852177e-01,\n",
       "       2.41970725e-01, 2.66085250e-01, 2.89691553e-01, 3.12253933e-01,\n",
       "       3.33224603e-01, 3.52065327e-01, 3.68270140e-01, 3.81387815e-01,\n",
       "       3.91042694e-01, 3.96952547e-01, 3.98942280e-01, 3.96952547e-01,\n",
       "       3.91042694e-01, 3.81387815e-01, 3.68270140e-01, 3.52065327e-01,\n",
       "       3.33224603e-01, 3.12253933e-01, 2.89691553e-01, 2.66085250e-01,\n",
       "       2.41970725e-01, 2.17852177e-01, 1.94186055e-01, 1.71368592e-01,\n",
       "       1.49727466e-01, 1.29517596e-01, 1.10920835e-01, 9.40490774e-02,\n",
       "       7.89501583e-02, 6.56158148e-02, 5.39909665e-02, 4.39835960e-02,\n",
       "       3.54745928e-02, 2.83270377e-02, 2.23945303e-02, 1.75283005e-02,\n",
       "       1.35829692e-02, 1.04209348e-02, 7.91545158e-03, 5.95253242e-03,\n",
       "       4.43184841e-03, 3.26681906e-03, 2.38408820e-03, 1.72256894e-03,\n",
       "       1.23221917e-03, 8.72682695e-04, 6.11901930e-04, 4.24780271e-04,\n",
       "       2.91946926e-04, 1.98655471e-04, 1.33830226e-04, 8.92616572e-05,\n",
       "       5.89430678e-05, 3.85351967e-05, 2.49424713e-05, 1.59837411e-05,\n",
       "       1.01408521e-05, 6.36982518e-06, 3.96129909e-06, 2.43896075e-06,\n",
       "       1.48671951e-06])"
      ]
     },
     "execution_count": 31,
     "metadata": {},
     "output_type": "execute_result"
    }
   ],
   "source": [
    "y_ = stats.norm(0, 1).pdf(x)\n",
    "y_"
   ]
  },
  {
   "cell_type": "code",
   "execution_count": 32,
   "metadata": {},
   "outputs": [
    {
     "data": {
      "image/png": "[encoded data removed]",
      "text/plain": [
       "<Figure size 432x288 with 1 Axes>"
      ]
     },
     "metadata": {
      "needs_background": "light"
     },
     "output_type": "display_data"
    }
   ],
   "source": [
    "plt.plot(x, y_)\n",
    "plt.xlabel('x')\n",
    "plt.ylabel('y')\n",
    "plt.show()"
   ]
  },
  {
   "cell_type": "code",
   "execution_count": 35,
   "metadata": {},
   "outputs": [
    {
     "data": {
      "text/plain": [
       "array([-20. , -19.8, -19.6, -19.4, -19.2, -19. , -18.8, -18.6, -18.4,\n",
       "       -18.2, -18. , -17.8, -17.6, -17.4, -17.2, -17. , -16.8, -16.6,\n",
       "       -16.4, -16.2, -16. , -15.8, -15.6, -15.4, -15.2, -15. , -14.8,\n",
       "       -14.6, -14.4, -14.2, -14. , -13.8, -13.6, -13.4, -13.2, -13. ,\n",
       "       -12.8, -12.6, -12.4, -12.2, -12. , -11.8, -11.6, -11.4, -11.2,\n",
       "       -11. , -10.8, -10.6, -10.4, -10.2, -10. ,  -9.8,  -9.6,  -9.4,\n",
       "        -9.2,  -9. ,  -8.8,  -8.6,  -8.4,  -8.2,  -8. ,  -7.8,  -7.6,\n",
       "        -7.4,  -7.2,  -7. ,  -6.8,  -6.6,  -6.4,  -6.2,  -6. ,  -5.8,\n",
       "        -5.6,  -5.4,  -5.2,  -5. ,  -4.8,  -4.6,  -4.4,  -4.2,  -4. ,\n",
       "        -3.8,  -3.6,  -3.4,  -3.2,  -3. ,  -2.8,  -2.6,  -2.4,  -2.2,\n",
       "        -2. ,  -1.8,  -1.6,  -1.4,  -1.2,  -1. ,  -0.8,  -0.6,  -0.4,\n",
       "        -0.2,   0. ,   0.2,   0.4,   0.6,   0.8,   1. ,   1.2,   1.4,\n",
       "         1.6,   1.8,   2. ,   2.2,   2.4,   2.6,   2.8,   3. ,   3.2,\n",
       "         3.4,   3.6,   3.8,   4. ,   4.2,   4.4,   4.6,   4.8,   5. ,\n",
       "         5.2,   5.4,   5.6,   5.8,   6. ,   6.2,   6.4,   6.6,   6.8,\n",
       "         7. ,   7.2,   7.4,   7.6,   7.8,   8. ,   8.2,   8.4,   8.6,\n",
       "         8.8,   9. ,   9.2,   9.4,   9.6,   9.8,  10. ,  10.2,  10.4,\n",
       "        10.6,  10.8,  11. ,  11.2,  11.4,  11.6,  11.8,  12. ,  12.2,\n",
       "        12.4,  12.6,  12.8,  13. ,  13.2,  13.4,  13.6,  13.8,  14. ,\n",
       "        14.2,  14.4,  14.6,  14.8,  15. ,  15.2,  15.4,  15.6,  15.8,\n",
       "        16. ,  16.2,  16.4,  16.6,  16.8,  17. ,  17.2,  17.4,  17.6,\n",
       "        17.8,  18. ,  18.2,  18.4,  18.6,  18.8,  19. ,  19.2,  19.4,\n",
       "        19.6,  19.8,  20. ])"
      ]
     },
     "execution_count": 35,
     "metadata": {},
     "output_type": "execute_result"
    }
   ],
   "source": [
    "def norm(_a,_b,_x):\n",
    "    return stats.norm(_a, _b).pdf(_x)\n",
    "\n",
    "x = np.linspace(-20, 20, 201)\n",
    "x"
   ]
  },
  {
   "cell_type": "code",
   "execution_count": 37,
   "metadata": {},
   "outputs": [
    {
     "data": {
      "image/png": "[encoded data removed]",
      "text/plain": [
       "<Figure size 432x288 with 1 Axes>"
      ]
     },
     "metadata": {
      "needs_background": "light"
     },
     "output_type": "display_data"
    }
   ],
   "source": [
    "for i in range(1,11,1):\n",
    "    _y = norm(0, i, x)\n",
    "    plt.plot(x, _y)\n",
    "plt.show()"
   ]
  },
  {
   "cell_type": "code",
   "execution_count": 40,
   "metadata": {},
   "outputs": [
    {
     "data": {
      "text/plain": [
       "array([90, 50, 80, 84, 47, 69, 27, 25, 40, 87, 36, 49, 73, 30, 32, 69, 59,\n",
       "       37, 10, 72, 50, 68, 46, 73, 85, 60, 83, 17, 59, 92, 11, 89, 59, 50,\n",
       "       56, 69, 83, 88, 42, 26, 31, 53, 68, 31, 59, 73, 93, 61, 18, 96])"
      ]
     },
     "execution_count": 40,
     "metadata": {},
     "output_type": "execute_result"
    }
   ],
   "source": [
    "x = np.random.randint(10,100,50)\n",
    "x\n"
   ]
  },
  {
   "cell_type": "code",
   "execution_count": 43,
   "metadata": {},
   "outputs": [
    {
     "data": {
      "text/plain": [
       "(array([2., 0., 2., 0., 0., 3., 1., 3., 0., 2., 1., 1., 2., 4., 0., 1., 1.,\n",
       "        6., 0., 0., 5., 4., 0., 0., 1., 3., 2., 3., 2., 1.]),\n",
       " array([10.        , 12.86666667, 15.73333333, 18.6       , 21.46666667,\n",
       "        24.33333333, 27.2       , 30.06666667, 32.93333333, 35.8       ,\n",
       "        38.66666667, 41.53333333, 44.4       , 47.26666667, 50.13333333,\n",
       "        53.        , 55.86666667, 58.73333333, 61.6       , 64.46666667,\n",
       "        67.33333333, 70.2       , 73.06666667, 75.93333333, 78.8       ,\n",
       "        81.66666667, 84.53333333, 87.4       , 90.26666667, 93.13333333,\n",
       "        96.        ]),\n",
       " <BarContainer object of 30 artists>)"
      ]
     },
     "execution_count": 43,
     "metadata": {},
     "output_type": "execute_result"
    },
    {
     "data": {
      "image/png": "[encoded data removed]",
      "text/plain": [
       "<Figure size 432x288 with 1 Axes>"
      ]
     },
     "metadata": {
      "needs_background": "light"
     },
     "output_type": "display_data"
    }
   ],
   "source": [
    "plt.hist(x)\n",
    "plt.hist(x, bins = 30)\n"
   ]
  },
  {
   "cell_type": "code",
   "execution_count": 44,
   "metadata": {},
   "outputs": [
    {
     "data": {
      "text/plain": [
       "(array([ 4.,  7., 11., 15., 21., 29., 34., 38., 44., 50.]),\n",
       " array([10. , 18.6, 27.2, 35.8, 44.4, 53. , 61.6, 70.2, 78.8, 87.4, 96. ]),\n",
       " <BarContainer object of 10 artists>)"
      ]
     },
     "execution_count": 44,
     "metadata": {},
     "output_type": "execute_result"
    },
    {
     "data": {
      "image/png": "[encoded data removed]",
      "text/plain": [
       "<Figure size 432x288 with 1 Axes>"
      ]
     },
     "metadata": {
      "needs_background": "light"
     },
     "output_type": "display_data"
    }
   ],
   "source": [
    "plt.hist(x, cumulative=True)"
   ]
  },
  {
   "cell_type": "code",
   "execution_count": 45,
   "metadata": {},
   "outputs": [
    {
     "data": {
      "text/plain": [
       "(array([0.00930233, 0.00697674, 0.00930233, 0.00930233, 0.01395349,\n",
       "        0.01860465, 0.01162791, 0.00930233, 0.01395349, 0.01395349]),\n",
       " array([10. , 18.6, 27.2, 35.8, 44.4, 53. , 61.6, 70.2, 78.8, 87.4, 96. ]),\n",
       " <BarContainer object of 10 artists>)"
      ]
     },
     "execution_count": 45,
     "metadata": {},
     "output_type": "execute_result"
    },
    {
     "data": {
      "image/png": "[encoded data removed]",
      "text/plain": [
       "<Figure size 432x288 with 1 Axes>"
      ]
     },
     "metadata": {
      "needs_background": "light"
     },
     "output_type": "display_data"
    }
   ],
   "source": [
    "plt.hist(x, density = True)"
   ]
  },
  {
   "cell_type": "code",
   "execution_count": 50,
   "metadata": {},
   "outputs": [],
   "source": [
    "x = np.random.randint(10, 50, 5)\n",
    "labels = [\"A\", \"B\", \"C\", \"D\", \"E\"]\n"
   ]
  },
  {
   "cell_type": "code",
   "execution_count": 60,
   "metadata": {},
   "outputs": [
    {
     "data": {
      "image/png": "[encoded data removed]",
      "text/plain": [
       "<Figure size 432x288 with 1 Axes>"
      ]
     },
     "metadata": {},
     "output_type": "display_data"
    }
   ],
   "source": [
    "explodes = [0, 0.10, 0.10, 0, 0.10]\n",
    "plt.pie(x, autopct='%.2f%%', labels=labels,  # 1f소수점 첫째자리까지 표시\n",
    "counterclock=True, startangle=180,\n",
    "explode = explodes)\n",
    "plt.show()"
   ]
  },
  {
   "cell_type": "code",
   "execution_count": 66,
   "metadata": {},
   "outputs": [],
   "source": [
    "x = np.linspace(1,10,10)\n",
    "y = np.random.rand(10)"
   ]
  },
  {
   "cell_type": "code",
   "execution_count": 75,
   "metadata": {},
   "outputs": [
    {
     "data": {
      "image/png": "[encoded data removed]",
      "text/plain": [
       "<Figure size 432x288 with 1 Axes>"
      ]
     },
     "metadata": {
      "needs_background": "light"
     },
     "output_type": "display_data"
    }
   ],
   "source": [
    "plt.plot(x, y)\n",
    "plt.xticks(np.arange(min(x), max(x)+1, 1.0))\n",
    "plt.yticks(np.arange(min(y), max(y)+0.1, 0.1))\n",
    "plt.xlabel(\"X\")\n",
    "plt.ylabel(\"Y\")\n",
    "plt.legend(\"X\")\n",
    "plt.grid()\n",
    "plt.show()"
   ]
  },
  {
   "cell_type": "code",
   "execution_count": 76,
   "metadata": {},
   "outputs": [
    {
     "data": {
      "text/plain": [
       "(array([0.74175504, 0.65302051, 0.79888551, 0.03124756, 0.22957403,\n",
       "        0.7046275 , 0.08756251, 0.03058948, 0.35713493, 0.58978199]),\n",
       " array([ 1.,  2.,  3.,  4.,  5.,  6.,  7.,  8.,  9., 10.]))"
      ]
     },
     "execution_count": 76,
     "metadata": {},
     "output_type": "execute_result"
    }
   ],
   "source": [
    "y = np.linspace(1, 10, 10)\n",
    "x = np.random.rand(10)\n",
    "x, y"
   ]
  },
  {
   "cell_type": "code",
   "execution_count": 77,
   "metadata": {},
   "outputs": [
    {
     "data": {
      "image/png": "[encoded data removed]",
      "text/plain": [
       "<Figure size 432x288 with 1 Axes>"
      ]
     },
     "metadata": {
      "needs_background": "light"
     },
     "output_type": "display_data"
    }
   ],
   "source": [
    "plt.barh(y, x)\n",
    "plt.savefig(\"test.png\", dpi=200, facecolor=\"red\")"
   ]
  }
 ],
 "metadata": {
  "interpreter": {
   "hash": "178a3f30f1260fd802957bede53c671b8ea3e1a8feec185343992868dc57f060"
  },
  "kernelspec": {
   "display_name": "Python 3.10.2 64-bit",
   "language": "python",
   "name": "python3"
  },
  "language_info": {
   "codemirror_mode": {
    "name": "ipython",
    "version": 3
   },
   "file_extension": ".py",
   "mimetype": "text/x-python",
   "name": "python",
   "nbconvert_exporter": "python",
   "pygments_lexer": "ipython3",
   "version": "3.10.2"
  },
  "orig_nbformat": 4
 },
 "nbformat": 4,
 "nbformat_minor": 2
}
