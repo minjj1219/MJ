{
 "cells": [
  {
   "cell_type": "code",
   "execution_count": 3,
   "metadata": {},
   "outputs": [],
   "source": [
    "#pymysql은 mysql을 파이썬에서 실행 가능하게 해주는 라이브러리\n",
    "import pymysql\n",
    "import pandas as pd\n"
   ]
  },
  {
   "cell_type": "code",
   "execution_count": 4,
   "metadata": {},
   "outputs": [],
   "source": [
    "# pymysql 모듈의 connect라는 method 사용하여 mysql에 연결\n",
    "# 호스트명, 포트, 로그임, 암호, 접속할 db 등을 파라미터로 지정\n",
    "_db = pymysql.connect(\n",
    "    user = \"root\",\n",
    "    passwd = \"2369\",\n",
    "    host = \"localhost\",\n",
    "    db = \"ubion\",\n",
    ")\n",
    "# charset='utf8' 데이터 가져올 때 한글 깨질 수 있으므로 넣는 설정"
   ]
  },
  {
   "cell_type": "code",
   "execution_count": 5,
   "metadata": {},
   "outputs": [],
   "source": [
    "# sql 사용 시 일반적으로 결과 table 형태로 반환\n",
    "# 커서는 이러한 결과 집합을 한 행씩 처리할 수 있도록 함\n",
    "cursor = _db.cursor(pymysql.cursors.DictCursor)"
   ]
  },
  {
   "cell_type": "code",
   "execution_count": 6,
   "metadata": {},
   "outputs": [
    {
     "name": "stdout",
     "output_type": "stream",
     "text": [
      "[{'ID': 'test', 'password': '1111', 'name': '고길동', 'phone': '01012345678', 'ads': '서울시 강북구 쌍문동', 'gender': 1, 'age': 45, 'regit_date': '20220310'}, {'ID': 'test2', 'password': '5678', 'name': '둘리', 'phone': '01098765432', 'ads': '북극 어딘가', 'gender': 1, 'age': 10, 'regit_date': '20220310'}, {'ID': 'test3', 'password': '0123', 'name': '마이콜', 'phone': '01023483282', 'ads': '고길동 옆집', 'gender': 1, 'age': 28, 'regit_date': '20220310'}, {'ID': 'test4', 'password': '2342', 'name': '또치', 'phone': '01098372345', 'ads': '동물원', 'gender': 2, 'age': 4, 'regit_date': '20220310'}, {'ID': 'test5', 'password': '5555', 'name': '도우너', 'phone': '01012345678', 'ads': '깐따삐아', 'gender': 1, 'age': 10, 'regit_date': '20220310'}, {'ID': 'test6', 'password': '2233', 'name': '희동이', 'phone': '01029293842', 'ads': '서울시 강북구 쌍문동', 'gender': 1, 'age': 1, 'regit_date': '20220311'}]\n"
     ]
    }
   ],
   "source": [
    "sql = \"SELECT * FROM user_info\"\n",
    "\n",
    "cursor.execute(sql)\n",
    "#execute는 sql문장을 db서버에 전송해줌\n",
    "result = cursor.fetchall()\n",
    "#fetch는 결과 집합에서 행 반환하는 역할\n",
    "print(result)"
   ]
  },
  {
   "cell_type": "code",
   "execution_count": 7,
   "metadata": {},
   "outputs": [
    {
     "data": {
      "text/html": [
       "<div>\n",
       "<style scoped>\n",
       "    .dataframe tbody tr th:only-of-type {\n",
       "        vertical-align: middle;\n",
       "    }\n",
       "\n",
       "    .dataframe tbody tr th {\n",
       "        vertical-align: top;\n",
       "    }\n",
       "\n",
       "    .dataframe thead th {\n",
       "        text-align: right;\n",
       "    }\n",
       "</style>\n",
       "<table border=\"1\" class=\"dataframe\">\n",
       "  <thead>\n",
       "    <tr style=\"text-align: right;\">\n",
       "      <th></th>\n",
       "      <th>ID</th>\n",
       "      <th>password</th>\n",
       "      <th>name</th>\n",
       "      <th>phone</th>\n",
       "      <th>ads</th>\n",
       "      <th>gender</th>\n",
       "      <th>age</th>\n",
       "      <th>regit_date</th>\n",
       "    </tr>\n",
       "  </thead>\n",
       "  <tbody>\n",
       "    <tr>\n",
       "      <th>0</th>\n",
       "      <td>test</td>\n",
       "      <td>1111</td>\n",
       "      <td>고길동</td>\n",
       "      <td>01012345678</td>\n",
       "      <td>서울시 강북구 쌍문동</td>\n",
       "      <td>1</td>\n",
       "      <td>45</td>\n",
       "      <td>20220310</td>\n",
       "    </tr>\n",
       "    <tr>\n",
       "      <th>1</th>\n",
       "      <td>test2</td>\n",
       "      <td>5678</td>\n",
       "      <td>둘리</td>\n",
       "      <td>01098765432</td>\n",
       "      <td>북극 어딘가</td>\n",
       "      <td>1</td>\n",
       "      <td>10</td>\n",
       "      <td>20220310</td>\n",
       "    </tr>\n",
       "    <tr>\n",
       "      <th>2</th>\n",
       "      <td>test3</td>\n",
       "      <td>0123</td>\n",
       "      <td>마이콜</td>\n",
       "      <td>01023483282</td>\n",
       "      <td>고길동 옆집</td>\n",
       "      <td>1</td>\n",
       "      <td>28</td>\n",
       "      <td>20220310</td>\n",
       "    </tr>\n",
       "    <tr>\n",
       "      <th>3</th>\n",
       "      <td>test4</td>\n",
       "      <td>2342</td>\n",
       "      <td>또치</td>\n",
       "      <td>01098372345</td>\n",
       "      <td>동물원</td>\n",
       "      <td>2</td>\n",
       "      <td>4</td>\n",
       "      <td>20220310</td>\n",
       "    </tr>\n",
       "    <tr>\n",
       "      <th>4</th>\n",
       "      <td>test5</td>\n",
       "      <td>5555</td>\n",
       "      <td>도우너</td>\n",
       "      <td>01012345678</td>\n",
       "      <td>깐따삐아</td>\n",
       "      <td>1</td>\n",
       "      <td>10</td>\n",
       "      <td>20220310</td>\n",
       "    </tr>\n",
       "    <tr>\n",
       "      <th>5</th>\n",
       "      <td>test6</td>\n",
       "      <td>2233</td>\n",
       "      <td>희동이</td>\n",
       "      <td>01029293842</td>\n",
       "      <td>서울시 강북구 쌍문동</td>\n",
       "      <td>1</td>\n",
       "      <td>1</td>\n",
       "      <td>20220311</td>\n",
       "    </tr>\n",
       "  </tbody>\n",
       "</table>\n",
       "</div>"
      ],
      "text/plain": [
       "      ID password name        phone          ads  gender  age regit_date\n",
       "0   test     1111  고길동  01012345678  서울시 강북구 쌍문동       1   45   20220310\n",
       "1  test2     5678   둘리  01098765432       북극 어딘가       1   10   20220310\n",
       "2  test3     0123  마이콜  01023483282       고길동 옆집       1   28   20220310\n",
       "3  test4     2342   또치  01098372345          동물원       2    4   20220310\n",
       "4  test5     5555  도우너  01012345678         깐따삐아       1   10   20220310\n",
       "5  test6     2233  희동이  01029293842  서울시 강북구 쌍문동       1    1   20220311"
      ]
     },
     "execution_count": 7,
     "metadata": {},
     "output_type": "execute_result"
    }
   ],
   "source": [
    "#dict 형태이기 때문에 KEY값이 자동으로 COLUMN에 들어감\n",
    "dt = pd.DataFrame(result)\n",
    "dt"
   ]
  },
  {
   "cell_type": "code",
   "execution_count": 8,
   "metadata": {},
   "outputs": [
    {
     "ename": "IntegrityError",
     "evalue": "(1062, \"Duplicate entry 'test4' for key 'user_info.PRIMARY'\")",
     "output_type": "error",
     "traceback": [
      "\u001b[1;31m---------------------------------------------------------------------------\u001b[0m",
      "\u001b[1;31mIntegrityError\u001b[0m                            Traceback (most recent call last)",
      "\u001b[1;32mc:\\My Python\\sql\\220310.ipynb Cell 6'\u001b[0m in \u001b[0;36m<module>\u001b[1;34m\u001b[0m\n\u001b[0;32m      <a href='vscode-notebook-cell:/c%3A/My%20Python/sql/220310.ipynb#ch0000005?line=1'>2</a>\u001b[0m sql \u001b[39m=\u001b[39m \u001b[39m\"\u001b[39m\u001b[39minsert into user_info values(\u001b[39m\u001b[39m%s\u001b[39;00m\u001b[39m, \u001b[39m\u001b[39m%s\u001b[39;00m\u001b[39m, \u001b[39m\u001b[39m%s\u001b[39;00m\u001b[39m, \u001b[39m\u001b[39m%s\u001b[39;00m\u001b[39m, \u001b[39m\u001b[39m%s\u001b[39;00m\u001b[39m, \u001b[39m\u001b[39m%s\u001b[39;00m\u001b[39m, \u001b[39m\u001b[39m%s\u001b[39;00m\u001b[39m, \u001b[39m\u001b[39m%s\u001b[39;00m\u001b[39m)\u001b[39m\u001b[39m\"\u001b[39m\n\u001b[0;32m      <a href='vscode-notebook-cell:/c%3A/My%20Python/sql/220310.ipynb#ch0000005?line=2'>3</a>\u001b[0m values \u001b[39m=\u001b[39m [\u001b[39m\"\u001b[39m\u001b[39mtest4\u001b[39m\u001b[39m\"\u001b[39m, \u001b[39m\"\u001b[39m\u001b[39m2342\u001b[39m\u001b[39m\"\u001b[39m, \u001b[39m\"\u001b[39m\u001b[39m또치\u001b[39m\u001b[39m\"\u001b[39m, \u001b[39m\"\u001b[39m\u001b[39m01098372345\u001b[39m\u001b[39m\"\u001b[39m, \u001b[39m\"\u001b[39m\u001b[39m동물원\u001b[39m\u001b[39m\"\u001b[39m, \u001b[39m2\u001b[39m, \u001b[39m4\u001b[39m, \u001b[39m\"\u001b[39m\u001b[39m20220310\u001b[39m\u001b[39m\"\u001b[39m]\n\u001b[1;32m----> <a href='vscode-notebook-cell:/c%3A/My%20Python/sql/220310.ipynb#ch0000005?line=4'>5</a>\u001b[0m cursor\u001b[39m.\u001b[39;49mexecute(sql, values)\n\u001b[0;32m      <a href='vscode-notebook-cell:/c%3A/My%20Python/sql/220310.ipynb#ch0000005?line=5'>6</a>\u001b[0m _db\u001b[39m.\u001b[39mcommit()\n",
      "File \u001b[1;32m~\\AppData\\Local\\Programs\\Python\\Python310\\lib\\site-packages\\pymysql\\cursors.py:148\u001b[0m, in \u001b[0;36mCursor.execute\u001b[1;34m(self, query, args)\u001b[0m\n\u001b[0;32m    <a href='file:///c%3A/Users/82109/AppData/Local/Programs/Python/Python310/lib/site-packages/pymysql/cursors.py?line=143'>144</a>\u001b[0m     \u001b[39mpass\u001b[39;00m\n\u001b[0;32m    <a href='file:///c%3A/Users/82109/AppData/Local/Programs/Python/Python310/lib/site-packages/pymysql/cursors.py?line=145'>146</a>\u001b[0m query \u001b[39m=\u001b[39m \u001b[39mself\u001b[39m\u001b[39m.\u001b[39mmogrify(query, args)\n\u001b[1;32m--> <a href='file:///c%3A/Users/82109/AppData/Local/Programs/Python/Python310/lib/site-packages/pymysql/cursors.py?line=147'>148</a>\u001b[0m result \u001b[39m=\u001b[39m \u001b[39mself\u001b[39;49m\u001b[39m.\u001b[39;49m_query(query)\n\u001b[0;32m    <a href='file:///c%3A/Users/82109/AppData/Local/Programs/Python/Python310/lib/site-packages/pymysql/cursors.py?line=148'>149</a>\u001b[0m \u001b[39mself\u001b[39m\u001b[39m.\u001b[39m_executed \u001b[39m=\u001b[39m query\n\u001b[0;32m    <a href='file:///c%3A/Users/82109/AppData/Local/Programs/Python/Python310/lib/site-packages/pymysql/cursors.py?line=149'>150</a>\u001b[0m \u001b[39mreturn\u001b[39;00m result\n",
      "File \u001b[1;32m~\\AppData\\Local\\Programs\\Python\\Python310\\lib\\site-packages\\pymysql\\cursors.py:310\u001b[0m, in \u001b[0;36mCursor._query\u001b[1;34m(self, q)\u001b[0m\n\u001b[0;32m    <a href='file:///c%3A/Users/82109/AppData/Local/Programs/Python/Python310/lib/site-packages/pymysql/cursors.py?line=307'>308</a>\u001b[0m \u001b[39mself\u001b[39m\u001b[39m.\u001b[39m_last_executed \u001b[39m=\u001b[39m q\n\u001b[0;32m    <a href='file:///c%3A/Users/82109/AppData/Local/Programs/Python/Python310/lib/site-packages/pymysql/cursors.py?line=308'>309</a>\u001b[0m \u001b[39mself\u001b[39m\u001b[39m.\u001b[39m_clear_result()\n\u001b[1;32m--> <a href='file:///c%3A/Users/82109/AppData/Local/Programs/Python/Python310/lib/site-packages/pymysql/cursors.py?line=309'>310</a>\u001b[0m conn\u001b[39m.\u001b[39;49mquery(q)\n\u001b[0;32m    <a href='file:///c%3A/Users/82109/AppData/Local/Programs/Python/Python310/lib/site-packages/pymysql/cursors.py?line=310'>311</a>\u001b[0m \u001b[39mself\u001b[39m\u001b[39m.\u001b[39m_do_get_result()\n\u001b[0;32m    <a href='file:///c%3A/Users/82109/AppData/Local/Programs/Python/Python310/lib/site-packages/pymysql/cursors.py?line=311'>312</a>\u001b[0m \u001b[39mreturn\u001b[39;00m \u001b[39mself\u001b[39m\u001b[39m.\u001b[39mrowcount\n",
      "File \u001b[1;32m~\\AppData\\Local\\Programs\\Python\\Python310\\lib\\site-packages\\pymysql\\connections.py:548\u001b[0m, in \u001b[0;36mConnection.query\u001b[1;34m(self, sql, unbuffered)\u001b[0m\n\u001b[0;32m    <a href='file:///c%3A/Users/82109/AppData/Local/Programs/Python/Python310/lib/site-packages/pymysql/connections.py?line=545'>546</a>\u001b[0m     sql \u001b[39m=\u001b[39m sql\u001b[39m.\u001b[39mencode(\u001b[39mself\u001b[39m\u001b[39m.\u001b[39mencoding, \u001b[39m\"\u001b[39m\u001b[39msurrogateescape\u001b[39m\u001b[39m\"\u001b[39m)\n\u001b[0;32m    <a href='file:///c%3A/Users/82109/AppData/Local/Programs/Python/Python310/lib/site-packages/pymysql/connections.py?line=546'>547</a>\u001b[0m \u001b[39mself\u001b[39m\u001b[39m.\u001b[39m_execute_command(COMMAND\u001b[39m.\u001b[39mCOM_QUERY, sql)\n\u001b[1;32m--> <a href='file:///c%3A/Users/82109/AppData/Local/Programs/Python/Python310/lib/site-packages/pymysql/connections.py?line=547'>548</a>\u001b[0m \u001b[39mself\u001b[39m\u001b[39m.\u001b[39m_affected_rows \u001b[39m=\u001b[39m \u001b[39mself\u001b[39;49m\u001b[39m.\u001b[39;49m_read_query_result(unbuffered\u001b[39m=\u001b[39;49munbuffered)\n\u001b[0;32m    <a href='file:///c%3A/Users/82109/AppData/Local/Programs/Python/Python310/lib/site-packages/pymysql/connections.py?line=548'>549</a>\u001b[0m \u001b[39mreturn\u001b[39;00m \u001b[39mself\u001b[39m\u001b[39m.\u001b[39m_affected_rows\n",
      "File \u001b[1;32m~\\AppData\\Local\\Programs\\Python\\Python310\\lib\\site-packages\\pymysql\\connections.py:775\u001b[0m, in \u001b[0;36mConnection._read_query_result\u001b[1;34m(self, unbuffered)\u001b[0m\n\u001b[0;32m    <a href='file:///c%3A/Users/82109/AppData/Local/Programs/Python/Python310/lib/site-packages/pymysql/connections.py?line=772'>773</a>\u001b[0m \u001b[39melse\u001b[39;00m:\n\u001b[0;32m    <a href='file:///c%3A/Users/82109/AppData/Local/Programs/Python/Python310/lib/site-packages/pymysql/connections.py?line=773'>774</a>\u001b[0m     result \u001b[39m=\u001b[39m MySQLResult(\u001b[39mself\u001b[39m)\n\u001b[1;32m--> <a href='file:///c%3A/Users/82109/AppData/Local/Programs/Python/Python310/lib/site-packages/pymysql/connections.py?line=774'>775</a>\u001b[0m     result\u001b[39m.\u001b[39;49mread()\n\u001b[0;32m    <a href='file:///c%3A/Users/82109/AppData/Local/Programs/Python/Python310/lib/site-packages/pymysql/connections.py?line=775'>776</a>\u001b[0m \u001b[39mself\u001b[39m\u001b[39m.\u001b[39m_result \u001b[39m=\u001b[39m result\n\u001b[0;32m    <a href='file:///c%3A/Users/82109/AppData/Local/Programs/Python/Python310/lib/site-packages/pymysql/connections.py?line=776'>777</a>\u001b[0m \u001b[39mif\u001b[39;00m result\u001b[39m.\u001b[39mserver_status \u001b[39mis\u001b[39;00m \u001b[39mnot\u001b[39;00m \u001b[39mNone\u001b[39;00m:\n",
      "File \u001b[1;32m~\\AppData\\Local\\Programs\\Python\\Python310\\lib\\site-packages\\pymysql\\connections.py:1156\u001b[0m, in \u001b[0;36mMySQLResult.read\u001b[1;34m(self)\u001b[0m\n\u001b[0;32m   <a href='file:///c%3A/Users/82109/AppData/Local/Programs/Python/Python310/lib/site-packages/pymysql/connections.py?line=1153'>1154</a>\u001b[0m \u001b[39mdef\u001b[39;00m \u001b[39mread\u001b[39m(\u001b[39mself\u001b[39m):\n\u001b[0;32m   <a href='file:///c%3A/Users/82109/AppData/Local/Programs/Python/Python310/lib/site-packages/pymysql/connections.py?line=1154'>1155</a>\u001b[0m     \u001b[39mtry\u001b[39;00m:\n\u001b[1;32m-> <a href='file:///c%3A/Users/82109/AppData/Local/Programs/Python/Python310/lib/site-packages/pymysql/connections.py?line=1155'>1156</a>\u001b[0m         first_packet \u001b[39m=\u001b[39m \u001b[39mself\u001b[39;49m\u001b[39m.\u001b[39;49mconnection\u001b[39m.\u001b[39;49m_read_packet()\n\u001b[0;32m   <a href='file:///c%3A/Users/82109/AppData/Local/Programs/Python/Python310/lib/site-packages/pymysql/connections.py?line=1157'>1158</a>\u001b[0m         \u001b[39mif\u001b[39;00m first_packet\u001b[39m.\u001b[39mis_ok_packet():\n\u001b[0;32m   <a href='file:///c%3A/Users/82109/AppData/Local/Programs/Python/Python310/lib/site-packages/pymysql/connections.py?line=1158'>1159</a>\u001b[0m             \u001b[39mself\u001b[39m\u001b[39m.\u001b[39m_read_ok_packet(first_packet)\n",
      "File \u001b[1;32m~\\AppData\\Local\\Programs\\Python\\Python310\\lib\\site-packages\\pymysql\\connections.py:725\u001b[0m, in \u001b[0;36mConnection._read_packet\u001b[1;34m(self, packet_type)\u001b[0m\n\u001b[0;32m    <a href='file:///c%3A/Users/82109/AppData/Local/Programs/Python/Python310/lib/site-packages/pymysql/connections.py?line=722'>723</a>\u001b[0m     \u001b[39mif\u001b[39;00m \u001b[39mself\u001b[39m\u001b[39m.\u001b[39m_result \u001b[39mis\u001b[39;00m \u001b[39mnot\u001b[39;00m \u001b[39mNone\u001b[39;00m \u001b[39mand\u001b[39;00m \u001b[39mself\u001b[39m\u001b[39m.\u001b[39m_result\u001b[39m.\u001b[39munbuffered_active \u001b[39mis\u001b[39;00m \u001b[39mTrue\u001b[39;00m:\n\u001b[0;32m    <a href='file:///c%3A/Users/82109/AppData/Local/Programs/Python/Python310/lib/site-packages/pymysql/connections.py?line=723'>724</a>\u001b[0m         \u001b[39mself\u001b[39m\u001b[39m.\u001b[39m_result\u001b[39m.\u001b[39munbuffered_active \u001b[39m=\u001b[39m \u001b[39mFalse\u001b[39;00m\n\u001b[1;32m--> <a href='file:///c%3A/Users/82109/AppData/Local/Programs/Python/Python310/lib/site-packages/pymysql/connections.py?line=724'>725</a>\u001b[0m     packet\u001b[39m.\u001b[39;49mraise_for_error()\n\u001b[0;32m    <a href='file:///c%3A/Users/82109/AppData/Local/Programs/Python/Python310/lib/site-packages/pymysql/connections.py?line=725'>726</a>\u001b[0m \u001b[39mreturn\u001b[39;00m packet\n",
      "File \u001b[1;32m~\\AppData\\Local\\Programs\\Python\\Python310\\lib\\site-packages\\pymysql\\protocol.py:221\u001b[0m, in \u001b[0;36mMysqlPacket.raise_for_error\u001b[1;34m(self)\u001b[0m\n\u001b[0;32m    <a href='file:///c%3A/Users/82109/AppData/Local/Programs/Python/Python310/lib/site-packages/pymysql/protocol.py?line=218'>219</a>\u001b[0m \u001b[39mif\u001b[39;00m DEBUG:\n\u001b[0;32m    <a href='file:///c%3A/Users/82109/AppData/Local/Programs/Python/Python310/lib/site-packages/pymysql/protocol.py?line=219'>220</a>\u001b[0m     \u001b[39mprint\u001b[39m(\u001b[39m\"\u001b[39m\u001b[39merrno =\u001b[39m\u001b[39m\"\u001b[39m, errno)\n\u001b[1;32m--> <a href='file:///c%3A/Users/82109/AppData/Local/Programs/Python/Python310/lib/site-packages/pymysql/protocol.py?line=220'>221</a>\u001b[0m err\u001b[39m.\u001b[39;49mraise_mysql_exception(\u001b[39mself\u001b[39;49m\u001b[39m.\u001b[39;49m_data)\n",
      "File \u001b[1;32m~\\AppData\\Local\\Programs\\Python\\Python310\\lib\\site-packages\\pymysql\\err.py:143\u001b[0m, in \u001b[0;36mraise_mysql_exception\u001b[1;34m(data)\u001b[0m\n\u001b[0;32m    <a href='file:///c%3A/Users/82109/AppData/Local/Programs/Python/Python310/lib/site-packages/pymysql/err.py?line=140'>141</a>\u001b[0m \u001b[39mif\u001b[39;00m errorclass \u001b[39mis\u001b[39;00m \u001b[39mNone\u001b[39;00m:\n\u001b[0;32m    <a href='file:///c%3A/Users/82109/AppData/Local/Programs/Python/Python310/lib/site-packages/pymysql/err.py?line=141'>142</a>\u001b[0m     errorclass \u001b[39m=\u001b[39m InternalError \u001b[39mif\u001b[39;00m errno \u001b[39m<\u001b[39m \u001b[39m1000\u001b[39m \u001b[39melse\u001b[39;00m OperationalError\n\u001b[1;32m--> <a href='file:///c%3A/Users/82109/AppData/Local/Programs/Python/Python310/lib/site-packages/pymysql/err.py?line=142'>143</a>\u001b[0m \u001b[39mraise\u001b[39;00m errorclass(errno, errval)\n",
      "\u001b[1;31mIntegrityError\u001b[0m: (1062, \"Duplicate entry 'test4' for key 'user_info.PRIMARY'\")"
     ]
    }
   ],
   "source": [
    "#sql에서는 str밖에 안씀\n",
    "sql = \"insert into user_info values(%s, %s, %s, %s, %s, %s, %s, %s)\"\n",
    "values = [\"test4\", \"2342\", \"또치\", \"01098372345\", \"동물원\", 2, 4, \"20220310\"]\n",
    "\n",
    "cursor.execute(sql, values)\n",
    "_db.commit()\n",
    "#삽입, 갱신, 삭제 등의 DML문장을 실행하는 경우, INSERT/UPDATE/DELETE 후 Connection 객체의 commit() 메서드 사용하여 데이터 확정"
   ]
  },
  {
   "cell_type": "code",
   "execution_count": null,
   "metadata": {},
   "outputs": [
    {
     "ename": "ValueError",
     "evalue": "invalid literal for int() with base 10: ''",
     "output_type": "error",
     "traceback": [
      "\u001b[1;31m---------------------------------------------------------------------------\u001b[0m",
      "\u001b[1;31mValueError\u001b[0m                                Traceback (most recent call last)",
      "\u001b[1;32mc:\\My Python\\sql\\220310.ipynb Cell 7'\u001b[0m in \u001b[0;36m<module>\u001b[1;34m\u001b[0m\n\u001b[0;32m      <a href='vscode-notebook-cell:/c%3A/My%20Python/sql/220310.ipynb#ch0000006?line=3'>4</a>\u001b[0m phone \u001b[39m=\u001b[39m \u001b[39minput\u001b[39m(\u001b[39m\"\u001b[39m\u001b[39mphone : \u001b[39m\u001b[39m\"\u001b[39m)\n\u001b[0;32m      <a href='vscode-notebook-cell:/c%3A/My%20Python/sql/220310.ipynb#ch0000006?line=4'>5</a>\u001b[0m ads \u001b[39m=\u001b[39m \u001b[39minput\u001b[39m(\u001b[39m\"\u001b[39m\u001b[39maddress : \u001b[39m\u001b[39m\"\u001b[39m)\n\u001b[1;32m----> <a href='vscode-notebook-cell:/c%3A/My%20Python/sql/220310.ipynb#ch0000006?line=5'>6</a>\u001b[0m gender \u001b[39m=\u001b[39m \u001b[39mint\u001b[39;49m(\u001b[39minput\u001b[39;49m(\u001b[39m\"\u001b[39;49m\u001b[39mgender : \u001b[39;49m\u001b[39m\"\u001b[39;49m))\n\u001b[0;32m      <a href='vscode-notebook-cell:/c%3A/My%20Python/sql/220310.ipynb#ch0000006?line=6'>7</a>\u001b[0m age \u001b[39m=\u001b[39m \u001b[39mint\u001b[39m(\u001b[39minput\u001b[39m(\u001b[39m\"\u001b[39m\u001b[39mage : \u001b[39m\u001b[39m\"\u001b[39m))\n\u001b[0;32m      <a href='vscode-notebook-cell:/c%3A/My%20Python/sql/220310.ipynb#ch0000006?line=7'>8</a>\u001b[0m regit_date \u001b[39m=\u001b[39m \u001b[39minput\u001b[39m(\u001b[39m\"\u001b[39m\u001b[39mregit_date : \u001b[39m\u001b[39m\"\u001b[39m)\n",
      "\u001b[1;31mValueError\u001b[0m: invalid literal for int() with base 10: ''"
     ]
    }
   ],
   "source": [
    "_ID = input(\"ID: \")\n",
    "pw = input(\"password : \")\n",
    "name = input(\"name : \")\n",
    "phone = input(\"phone : \")\n",
    "ads = input(\"address : \")\n",
    "gender = int(input(\"gender : \"))\n",
    "age = int(input(\"age : \"))\n",
    "regit_date = input(\"regit_date : \")\n",
    "\n",
    "input_list = [_ID, pw, name, phone, ads, gender, age, regit_date]\n",
    "\n",
    "cursor.execute(sql, input_list)\n",
    "_db.commit()"
   ]
  },
  {
   "cell_type": "code",
   "execution_count": null,
   "metadata": {},
   "outputs": [
    {
     "data": {
      "text/plain": [
       "int"
      ]
     },
     "execution_count": 28,
     "metadata": {},
     "output_type": "execute_result"
    }
   ],
   "source": [
    "x = int(input(\"x : \"))\n",
    "\n",
    "type(x)"
   ]
  },
  {
   "cell_type": "code",
   "execution_count": null,
   "metadata": {},
   "outputs": [],
   "source": [
    "update_sql = \"\"\"\n",
    "                UPDATE user_info \n",
    "                SET phone = \"01012345678\"\n",
    "                WHERE name = \"도우너\"\n",
    "             \"\"\"\n",
    "\n",
    "cursor.execute(update_sql)\n",
    "_db.commit()"
   ]
  },
  {
   "cell_type": "code",
   "execution_count": null,
   "metadata": {},
   "outputs": [],
   "source": []
  },
  {
   "cell_type": "code",
   "execution_count": null,
   "metadata": {},
   "outputs": [],
   "source": []
  },
  {
   "cell_type": "code",
   "execution_count": null,
   "metadata": {},
   "outputs": [],
   "source": []
  },
  {
   "cell_type": "code",
   "execution_count": null,
   "metadata": {},
   "outputs": [],
   "source": []
  },
  {
   "cell_type": "code",
   "execution_count": null,
   "metadata": {},
   "outputs": [],
   "source": []
  },
  {
   "cell_type": "code",
   "execution_count": null,
   "metadata": {},
   "outputs": [],
   "source": []
  },
  {
   "cell_type": "code",
   "execution_count": null,
   "metadata": {},
   "outputs": [],
   "source": []
  },
  {
   "cell_type": "code",
   "execution_count": null,
   "metadata": {},
   "outputs": [],
   "source": []
  },
  {
   "cell_type": "code",
   "execution_count": null,
   "metadata": {},
   "outputs": [],
   "source": []
  },
  {
   "cell_type": "code",
   "execution_count": null,
   "metadata": {},
   "outputs": [],
   "source": []
  }
 ],
 "metadata": {
  "interpreter": {
   "hash": "178a3f30f1260fd802957bede53c671b8ea3e1a8feec185343992868dc57f060"
  },
  "kernelspec": {
   "display_name": "Python 3.10.2 64-bit",
   "language": "python",
   "name": "python3"
  },
  "language_info": {
   "codemirror_mode": {
    "name": "ipython",
    "version": 3
   },
   "file_extension": ".py",
   "mimetype": "text/x-python",
   "name": "python",
   "nbconvert_exporter": "python",
   "pygments_lexer": "ipython3",
   "version": "3.10.2"
  },
  "orig_nbformat": 4
 },
 "nbformat": 4,
 "nbformat_minor": 2
}
