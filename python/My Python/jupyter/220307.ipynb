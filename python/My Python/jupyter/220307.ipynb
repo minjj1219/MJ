{
 "cells": [
  {
   "cell_type": "code",
   "execution_count": 1,
   "metadata": {},
   "outputs": [],
   "source": [
    "class Class_1():\n",
    "    def func_1(self):\n",
    "        print(\"Hello World\")"
   ]
  },
  {
   "cell_type": "code",
   "execution_count": 2,
   "metadata": {},
   "outputs": [
    {
     "name": "stdout",
     "output_type": "stream",
     "text": [
      "Hello World\n"
     ]
    }
   ],
   "source": [
    "a = Class_1()\n",
    "a.func_1()"
   ]
  },
  {
   "cell_type": "code",
   "execution_count": 3,
   "metadata": {},
   "outputs": [
    {
     "name": "stdout",
     "output_type": "stream",
     "text": [
      "Hello World\n"
     ]
    }
   ],
   "source": [
    "class Class_2():\n",
    "    def func_2(self):\n",
    "        print(\"Hello World\")\n",
    "\n",
    "b = Class_2()\n",
    "b.func_2()\n",
    "#b의 값이 인자값으로 들어가는데 func_2에 매개변수가 없으면 오류"
   ]
  },
  {
   "cell_type": "code",
   "execution_count": 4,
   "metadata": {},
   "outputs": [],
   "source": [
    "class Class_3():\n",
    "    def __init__(self, input_a, input_b):\n",
    "        self.a = input_a\n",
    "        self.b = input_b\n",
    "\n",
    "#self는 c에 변수 할당해줌\n",
    "\n",
    "c = Class_3(\"test\", \"test2\")\n",
    "\n"
   ]
  },
  {
   "cell_type": "code",
   "execution_count": 5,
   "metadata": {},
   "outputs": [
    {
     "data": {
      "text/plain": [
       "'test'"
      ]
     },
     "execution_count": 5,
     "metadata": {},
     "output_type": "execute_result"
    }
   ],
   "source": [
    "c.a"
   ]
  },
  {
   "cell_type": "code",
   "execution_count": 6,
   "metadata": {},
   "outputs": [
    {
     "data": {
      "text/plain": [
       "'test2'"
      ]
     },
     "execution_count": 6,
     "metadata": {},
     "output_type": "execute_result"
    }
   ],
   "source": [
    "c.b"
   ]
  },
  {
   "cell_type": "code",
   "execution_count": 7,
   "metadata": {},
   "outputs": [],
   "source": [
    "d = Class_3(\"test3\",\"test4\")"
   ]
  },
  {
   "cell_type": "code",
   "execution_count": null,
   "metadata": {},
   "outputs": [],
   "source": [
    "# init -> 초기화 함수 \n",
    "# 변수 새로 지정되면 다른 변수에 있던 인자들 영향 받지 않음(독립적)\n"
   ]
  },
  {
   "cell_type": "code",
   "execution_count": 8,
   "metadata": {},
   "outputs": [
    {
     "data": {
      "text/plain": [
       "2571580001136"
      ]
     },
     "execution_count": 8,
     "metadata": {},
     "output_type": "execute_result"
    }
   ],
   "source": [
    "id(c.a)\n",
    "#id는 값을 가지고 오는 주소"
   ]
  },
  {
   "cell_type": "code",
   "execution_count": 9,
   "metadata": {},
   "outputs": [
    {
     "data": {
      "text/plain": [
       "2571650822320"
      ]
     },
     "execution_count": 9,
     "metadata": {},
     "output_type": "execute_result"
    }
   ],
   "source": [
    "id(c.b)"
   ]
  },
  {
   "cell_type": "code",
   "execution_count": 10,
   "metadata": {},
   "outputs": [
    {
     "data": {
      "text/plain": [
       "2571650829552"
      ]
     },
     "execution_count": 10,
     "metadata": {},
     "output_type": "execute_result"
    }
   ],
   "source": [
    "id(d.a)"
   ]
  },
  {
   "cell_type": "code",
   "execution_count": 11,
   "metadata": {},
   "outputs": [],
   "source": [
    "class Class_4():\n",
    "\n",
    "    name = \"test\"\n",
    "\n",
    "    def __init__(self, input_c):\n",
    "        self.c = input_c\n",
    "\n",
    "a = Class_4(\"123\")\n",
    "b = Class_4(\"456\")\n",
    "c = Class_4(\"789\")\n",
    "\n"
   ]
  },
  {
   "cell_type": "code",
   "execution_count": 12,
   "metadata": {},
   "outputs": [
    {
     "name": "stdout",
     "output_type": "stream",
     "text": [
      "test test test\n",
      "123 456 789\n"
     ]
    }
   ],
   "source": [
    "print(a.name,b.name,c.name)\n",
    "print(a.c,b.c,c.c)"
   ]
  },
  {
   "cell_type": "code",
   "execution_count": 13,
   "metadata": {},
   "outputs": [
    {
     "name": "stdout",
     "output_type": "stream",
     "text": [
      "['01012345678', '01098765432'] ['01012345678', '01098765432']\n"
     ]
    }
   ],
   "source": [
    "class Class_5():\n",
    "    _list = []\n",
    "\n",
    "    def __init__(self, input_name):\n",
    "        self.name = input_name\n",
    "\n",
    "    def add_list(self, input_phone):\n",
    "        self._list.append(input_phone)\n",
    "\n",
    "# 이렇게 중복되면 안됨!\n",
    "\n",
    "d = Class_5(\"test\")\n",
    "e = Class_5(\"test2\")\n",
    "d.add_list(\"01012345678\")\n",
    "e.add_list(\"01098765432\")\n",
    "print(d._list, e._list )"
   ]
  },
  {
   "cell_type": "code",
   "execution_count": 17,
   "metadata": {},
   "outputs": [
    {
     "name": "stdout",
     "output_type": "stream",
     "text": [
      "['01012345678'] ['01098765432']\n"
     ]
    }
   ],
   "source": [
    "class Class_5():\n",
    "\n",
    "    def __init__(self, input_name):\n",
    "        self.name = input_name\n",
    "        self._list = []\n",
    "\n",
    "    def add_list(self, input_phone):\n",
    "        self._list.append(input_phone)\n",
    "\n",
    "d = Class_5(\"test\")\n",
    "e = Class_5(\"test2\")\n",
    "d.add_list(\"01012345678\")\n",
    "e.add_list(\"01098765432\")\n",
    "print(d._list, e._list )"
   ]
  },
  {
   "cell_type": "code",
   "execution_count": 18,
   "metadata": {},
   "outputs": [
    {
     "name": "stdout",
     "output_type": "stream",
     "text": [
      "['01012345678', '2638124'] ['01098765432', '7192734']\n"
     ]
    }
   ],
   "source": [
    "d.add_list(\"2638124\")\n",
    "e.add_list(\"7192734\")\n",
    "print(d._list,e._list)"
   ]
  },
  {
   "cell_type": "code",
   "execution_count": 19,
   "metadata": {},
   "outputs": [
    {
     "name": "stdout",
     "output_type": "stream",
     "text": [
      "test test2\n"
     ]
    }
   ],
   "source": [
    "print(d.name, e.name)"
   ]
  },
  {
   "cell_type": "code",
   "execution_count": 21,
   "metadata": {},
   "outputs": [
    {
     "name": "stdout",
     "output_type": "stream",
     "text": [
      "3\n",
      "7\n"
     ]
    }
   ],
   "source": [
    "sum = 0\n",
    "\n",
    "\n",
    "def add(x):\n",
    "    global sum\n",
    "    sum += x\n",
    "    return sum\n",
    "\n",
    "print(add(3))\n",
    "print(add(4))"
   ]
  },
  {
   "cell_type": "code",
   "execution_count": 22,
   "metadata": {},
   "outputs": [
    {
     "name": "stdout",
     "output_type": "stream",
     "text": [
      "3\n",
      "4\n",
      "13\n",
      "5\n"
     ]
    }
   ],
   "source": [
    "sum_1 = 0\n",
    "sum_2 = 0\n",
    "def add_1(x):\n",
    "    global sum_1\n",
    "    sum_1 += x\n",
    "    return sum_1\n",
    "\n",
    "def add_2(x):\n",
    "    global sum_2\n",
    "    sum_2 += x\n",
    "    return sum_2\n",
    "print(add_1(3))\n",
    "print(add_2(4))\n",
    "print(add_1(10))\n",
    "print(add_2(1))"
   ]
  },
  {
   "cell_type": "code",
   "execution_count": 37,
   "metadata": {},
   "outputs": [
    {
     "name": "stdout",
     "output_type": "stream",
     "text": [
      "4\n",
      "7\n",
      "11\n",
      "8\n"
     ]
    }
   ],
   "source": [
    "class Class_6 ():\n",
    "    def __init__(self):\n",
    "        self._sum = 0\n",
    "\n",
    "    def add(self, input_x):\n",
    "        self._sum += input_x\n",
    "        return self._sum\n",
    "\n",
    "a = Class_6()\n",
    "b = Class_6()\n",
    "\n",
    "print(a.add(4))\n",
    "print(b.add(7))\n",
    "print(a.add(7))\n",
    "print(b.add(1))\n",
    "\n",
    "\n",
    "\n",
    "    "
   ]
  },
  {
   "cell_type": "code",
   "execution_count": 39,
   "metadata": {},
   "outputs": [
    {
     "name": "stdout",
     "output_type": "stream",
     "text": [
      "4\n"
     ]
    }
   ],
   "source": [
    "class Class_7 ():\n",
    "    def __init__(self):\n",
    "        self._sum = 0\n",
    "\n",
    "    def add(self, input_x):\n",
    "        self._sum += input_x\n",
    "        \n",
    "\n",
    "a = Class_7()\n",
    "b = Class_7()\n",
    "a.add(4)\n",
    "print(a._sum)"
   ]
  },
  {
   "cell_type": "code",
   "execution_count": null,
   "metadata": {},
   "outputs": [],
   "source": [
    "# 1. Class 생성 -> 초기에 인자값 2개를 입력 받아서 변수 2개 이 값들을 지정\n",
    "# 2. 첫번째 함수 변수 2개의 값을 변경을 하는 함수\n",
    "# 3. 이 후에 5개의 함구는 변수 2개의 +,-,*,/,%의 함수를 생성\n",
    "# 4. 6개의 함수를 다 실행을 해봅시다.\n"
   ]
  },
  {
   "cell_type": "code",
   "execution_count": 59,
   "metadata": {},
   "outputs": [
    {
     "name": "stdout",
     "output_type": "stream",
     "text": [
      "10\n",
      "4\n",
      "21\n",
      "2.3333333333333335\n",
      "1\n"
     ]
    }
   ],
   "source": [
    "class Class_8():\n",
    "    def __init__(self, input_a, input_b):\n",
    "        # 클래스 생성이 되고 인자 값 2개를 변수 2개에 지정해주는 과정\n",
    "        self.a = input_a\n",
    "        # self는 class 내에 변수를 지정해주는 것\n",
    "        self.b = input_b\n",
    "    def change(self, input_a, input_b):\n",
    "        self.a = input_a\n",
    "        self.b = input_b\n",
    "    def sum(self):\n",
    "        self._sum = self.a + self.b\n",
    "        return self._sum\n",
    "    def sub(self):\n",
    "        return self.a - self.b\n",
    "    def mul(self):\n",
    "        return self.a*self.b\n",
    "    def div(self):\n",
    "        if self.b == 0:\n",
    "            return 0\n",
    "        else:\n",
    "            return self.a/self.b\n",
    "    def rem(self):\n",
    "        if self.b == 0:\n",
    "            return 0\n",
    "        else:\n",
    "            return self.a%self.b\n",
    "        \n",
    "\n",
    "result = Class_8(7,3)\n",
    "print(result.sum())\n",
    "print(result.sub())\n",
    "print(result.mul())\n",
    "print(result.div())\n",
    "print(result.rem())\n"
   ]
  },
  {
   "cell_type": "code",
   "execution_count": 60,
   "metadata": {},
   "outputs": [
    {
     "name": "stdout",
     "output_type": "stream",
     "text": [
      "2\n",
      "2\n",
      "0\n",
      "0\n",
      "0\n"
     ]
    }
   ],
   "source": [
    "#원래 0으로 나누면 에러 뜸\n",
    "result.change(2,0)\n",
    "print(result.sum())\n",
    "print(result.sub())\n",
    "print(result.mul())\n",
    "print(result.div())\n",
    "print(result.rem())"
   ]
  },
  {
   "cell_type": "markdown",
   "metadata": {},
   "source": [
    "1. class 밑변의 길이, 높이 인자 값으로 넣어주는 클래스 생성\n",
    "2. 삼각형일 때 넓이, 사각형 넓이 구하는 함수를 생성\n",
    "3. 함수는 init을 제외한 단 1개의 함수로 구성이 되는 클래스를 생성"
   ]
  },
  {
   "cell_type": "code",
   "execution_count": 68,
   "metadata": {},
   "outputs": [
    {
     "name": "stdout",
     "output_type": "stream",
     "text": [
      "6.0\n",
      "12\n",
      "지정된 값이 아니다.\n"
     ]
    }
   ],
   "source": [
    "class Class_9():\n",
    "    def __init__(self, input_a, input_b):\n",
    "        self.a = input_a\n",
    "        self.b = input_b\n",
    "    \n",
    "    def area(self, c):\n",
    "        if c == 3:\n",
    "            return self.a * self.b / 2\n",
    "        elif c == 4:\n",
    "            return self.a * self.b\n",
    "        else:\n",
    "            return \"지정된 값이 아니다.\"\n",
    "\n",
    "measure = Class_9(3,4)\n",
    "print(measure.area(3))\n",
    "print(measure.area(4))\n",
    "print(measure.area(5))\n",
    "\n"
   ]
  },
  {
   "cell_type": "code",
   "execution_count": 71,
   "metadata": {},
   "outputs": [
    {
     "name": "stdout",
     "output_type": "stream",
     "text": [
      "[18.84, 28.26]\n"
     ]
    }
   ],
   "source": [
    "class Class_10():\n",
    "    _pie = 3.14\n",
    "\n",
    "    def area(self, r):\n",
    "        self.result = [] \n",
    "        self.result.append(2 * self._pie * r)\n",
    "        self.result.append(self._pie*(r**2))\n",
    "        return self.result\n",
    "\n",
    "x = Class_10()\n",
    "# init 안에 매개변수가 없다면 안에 인자 바로 안적음\n",
    "print(x.area(3))\n",
    "\n",
    "\n",
    "    "
   ]
  },
  {
   "cell_type": "code",
   "execution_count": 75,
   "metadata": {},
   "outputs": [
    {
     "name": "stdout",
     "output_type": "stream",
     "text": [
      "[15.42, 14.13]\n",
      "[18.84, 28.26]\n",
      "[18.84, 28.26]\n"
     ]
    }
   ],
   "source": [
    "#상속 : 다른 클래스의 함수, 변수 가져옴\n",
    "class Class_11(Class_10):\n",
    "    def __init__(self, input_r):\n",
    "        self.r = input_r\n",
    "        \n",
    "    def half(self):\n",
    "        self.result = []\n",
    "        self.result.append(self._pie*self.r + 2*self.r)\n",
    "        self.result.append(self._pie*(self.r**2)/2)\n",
    "        return self.result\n",
    "\n",
    "    def area(self):\n",
    "        self.result = [] \n",
    "        self.result.append(2 * self._pie * self.r)\n",
    "        self.result.append(self._pie*(self.r**2))\n",
    "        return self.result\n",
    "\n",
    "    \n",
    "\n",
    "\n",
    "y = Class_11(3)\n",
    "print(y.half())\n",
    "print(y.area())\n",
    "print(x.area(3))"
   ]
  },
  {
   "cell_type": "code",
   "execution_count": null,
   "metadata": {},
   "outputs": [],
   "source": []
  },
  {
   "cell_type": "code",
   "execution_count": null,
   "metadata": {},
   "outputs": [],
   "source": []
  },
  {
   "cell_type": "code",
   "execution_count": null,
   "metadata": {},
   "outputs": [],
   "source": []
  },
  {
   "cell_type": "code",
   "execution_count": null,
   "metadata": {},
   "outputs": [],
   "source": []
  },
  {
   "cell_type": "code",
   "execution_count": null,
   "metadata": {},
   "outputs": [],
   "source": []
  }
 ],
 "metadata": {
  "interpreter": {
   "hash": "178a3f30f1260fd802957bede53c671b8ea3e1a8feec185343992868dc57f060"
  },
  "kernelspec": {
   "display_name": "Python 3.10.2 64-bit",
   "language": "python",
   "name": "python3"
  },
  "language_info": {
   "codemirror_mode": {
    "name": "ipython",
    "version": 3
   },
   "file_extension": ".py",
   "mimetype": "text/x-python",
   "name": "python",
   "nbconvert_exporter": "python",
   "pygments_lexer": "ipython3",
   "version": "3.10.2"
  },
  "orig_nbformat": 4
 },
 "nbformat": 4,
 "nbformat_minor": 2
}
