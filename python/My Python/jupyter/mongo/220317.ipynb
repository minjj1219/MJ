{
 "cells": [
  {
   "cell_type": "code",
   "execution_count": 62,
   "metadata": {},
   "outputs": [],
   "source": [
    "# pymongo에 있는 MongoClient라는 클래스 호출\n",
    "from pymongo import MongoClient\n",
    "import pandas as pd"
   ]
  },
  {
   "cell_type": "code",
   "execution_count": 63,
   "metadata": {},
   "outputs": [],
   "source": [
    "# class 형태 __init__ 인자 받음\n",
    "client = MongoClient(\n",
    "    host = 'localhost',\n",
    "    port = 27017\n",
    ")"
   ]
  },
  {
   "cell_type": "code",
   "execution_count": 64,
   "metadata": {},
   "outputs": [
    {
     "data": {
      "text/plain": [
       "['admin', 'config', 'local', 'ubion']"
      ]
     },
     "execution_count": 64,
     "metadata": {},
     "output_type": "execute_result"
    }
   ],
   "source": [
    "# 어떤 데이터베이스들이 존재하는지 보여줌\n",
    "client.list_database_names()"
   ]
  },
  {
   "cell_type": "code",
   "execution_count": 65,
   "metadata": {},
   "outputs": [
    {
     "ename": "TypeError",
     "evalue": "'dict' object is not callable",
     "output_type": "error",
     "traceback": [
      "\u001b[1;31m---------------------------------------------------------------------------\u001b[0m",
      "\u001b[1;31mTypeError\u001b[0m                                 Traceback (most recent call last)",
      "\u001b[1;32mc:\\My Python\\jupyter\\mongo\\220317.ipynb Cell 4'\u001b[0m in \u001b[0;36m<module>\u001b[1;34m\u001b[0m\n\u001b[0;32m      <a href='vscode-notebook-cell:/c%3A/My%20Python/jupyter/mongo/220317.ipynb#ch0000003?line=0'>1</a>\u001b[0m \u001b[39m# 몽고는 커서 지정 필요없음\u001b[39;00m\n\u001b[0;32m      <a href='vscode-notebook-cell:/c%3A/My%20Python/jupyter/mongo/220317.ipynb#ch0000003?line=1'>2</a>\u001b[0m \u001b[39m# 커서 타입이라 list로 출력해줘야함\u001b[39;00m\n\u001b[0;32m      <a href='vscode-notebook-cell:/c%3A/My%20Python/jupyter/mongo/220317.ipynb#ch0000003?line=2'>3</a>\u001b[0m db \u001b[39m=\u001b[39m client[\u001b[39m\"\u001b[39m\u001b[39mubion\u001b[39m\u001b[39m\"\u001b[39m]\n\u001b[1;32m----> <a href='vscode-notebook-cell:/c%3A/My%20Python/jupyter/mongo/220317.ipynb#ch0000003?line=3'>4</a>\u001b[0m \u001b[39mlist\u001b[39;49m(db\u001b[39m.\u001b[39;49mtest\u001b[39m.\u001b[39;49mfind())\n",
      "\u001b[1;31mTypeError\u001b[0m: 'dict' object is not callable"
     ]
    }
   ],
   "source": [
    "# 몽고는 커서 지정 필요없음\n",
    "# 커서 타입이라 list로 출력해줘야함\n",
    "db = client[\"ubion\"]\n",
    "# dictionary value값 구하는 형태\n",
    "list(db.test.find())\n",
    "# = list(db[\"test\"].find())\n",
    "# SELECT * FROM test\n"
   ]
  },
  {
   "cell_type": "code",
   "execution_count": null,
   "metadata": {},
   "outputs": [
    {
     "data": {
      "text/plain": [
       "<pymongo.results.InsertOneResult at 0x24367f36140>"
      ]
     },
     "execution_count": 7,
     "metadata": {},
     "output_type": "execute_result"
    }
   ],
   "source": [
    "data = {\n",
    "    \"1\" : \"1\",\n",
    "    \"2\" : \"2\",\n",
    "    \"3\" : \"3\"\n",
    "}\n",
    "\n",
    "\n",
    "db.test.insert_one(data)\n",
    "\n",
    "# INSERT INTO test VALUE(data)"
   ]
  },
  {
   "cell_type": "code",
   "execution_count": null,
   "metadata": {},
   "outputs": [
    {
     "data": {
      "text/plain": [
       "<pymongo.results.InsertManyResult at 0x2436622ff40>"
      ]
     },
     "execution_count": 8,
     "metadata": {},
     "output_type": "execute_result"
    }
   ],
   "source": [
    "### data 변수 만들어서 insert_many 를 사용해볼 것\n",
    "data = [{\n",
    "    \"1\":\"2\"\n",
    "},\n",
    "{\"3\":\"4\"}\n",
    "]\n",
    "\n",
    "db.test.insert_many(data)\n"
   ]
  },
  {
   "cell_type": "code",
   "execution_count": null,
   "metadata": {},
   "outputs": [
    {
     "data": {
      "text/plain": [
       "[{'_id': ObjectId('62328e9f62878024c7c417f2'),\n",
       "  'name': 'test',\n",
       "  'phone': '12345678'},\n",
       " {'_id': ObjectId('6232911a62878024c7c417f4'), 'loc': 'Seoul'},\n",
       " {'_id': ObjectId('6232911a62878024c7c417f5'),\n",
       "  'gender': 'male',\n",
       "  'age': 20.0,\n",
       "  'hobby': 'soccer'},\n",
       " {'_id': ObjectId('623291ba62878024c7c417f6'), 'name': 'test2', 'age': 40.0},\n",
       " {'_id': ObjectId('623297eeeb7b4c7c25214424'), '1': '1', '2': '2', '3': '3'},\n",
       " {'_id': ObjectId('62329a0deb7b4c7c25214425'), '1': '2'},\n",
       " {'_id': ObjectId('62329a0deb7b4c7c25214426'), '3': '4'}]"
      ]
     },
     "execution_count": 9,
     "metadata": {},
     "output_type": "execute_result"
    }
   ],
   "source": [
    "list(db.test.find())\n",
    "#_id는 primary key 역할"
   ]
  },
  {
   "cell_type": "code",
   "execution_count": null,
   "metadata": {},
   "outputs": [],
   "source": [
    "import mod_sql"
   ]
  },
  {
   "cell_type": "code",
   "execution_count": null,
   "metadata": {},
   "outputs": [],
   "source": [
    "_db = mod_sql.Database()"
   ]
  },
  {
   "cell_type": "code",
   "execution_count": null,
   "metadata": {},
   "outputs": [
    {
     "data": {
      "text/plain": [
       "[{'EMPNO': Decimal('7369'),\n",
       "  'ENAME': 'SMITH',\n",
       "  'JOB': 'CLERK',\n",
       "  'MGR': Decimal('7902'),\n",
       "  'HIREDATE': datetime.date(1980, 12, 17),\n",
       "  'SAL': Decimal('800.00'),\n",
       "  'COMM': None,\n",
       "  'DEPTNO': Decimal('20')},\n",
       " {'EMPNO': Decimal('7499'),\n",
       "  'ENAME': 'ALLEN',\n",
       "  'JOB': 'SALESMAN',\n",
       "  'MGR': Decimal('7698'),\n",
       "  'HIREDATE': datetime.date(1981, 2, 20),\n",
       "  'SAL': Decimal('1600.00'),\n",
       "  'COMM': Decimal('300.00'),\n",
       "  'DEPTNO': Decimal('30')},\n",
       " {'EMPNO': Decimal('7521'),\n",
       "  'ENAME': 'WARD',\n",
       "  'JOB': 'SALESMAN',\n",
       "  'MGR': Decimal('7698'),\n",
       "  'HIREDATE': datetime.date(1981, 2, 22),\n",
       "  'SAL': Decimal('1250.00'),\n",
       "  'COMM': Decimal('500.00'),\n",
       "  'DEPTNO': Decimal('30')},\n",
       " {'EMPNO': Decimal('7566'),\n",
       "  'ENAME': 'JONES',\n",
       "  'JOB': 'MANAGER',\n",
       "  'MGR': Decimal('7839'),\n",
       "  'HIREDATE': datetime.date(1981, 4, 2),\n",
       "  'SAL': Decimal('2975.00'),\n",
       "  'COMM': None,\n",
       "  'DEPTNO': Decimal('20')},\n",
       " {'EMPNO': Decimal('7654'),\n",
       "  'ENAME': 'MARTIN',\n",
       "  'JOB': 'SALESMAN',\n",
       "  'MGR': Decimal('7698'),\n",
       "  'HIREDATE': datetime.date(1981, 9, 28),\n",
       "  'SAL': Decimal('1250.00'),\n",
       "  'COMM': Decimal('1400.00'),\n",
       "  'DEPTNO': Decimal('30')},\n",
       " {'EMPNO': Decimal('7698'),\n",
       "  'ENAME': 'BLAKE',\n",
       "  'JOB': 'MANAGER',\n",
       "  'MGR': Decimal('7839'),\n",
       "  'HIREDATE': datetime.date(1981, 5, 1),\n",
       "  'SAL': Decimal('2850.00'),\n",
       "  'COMM': None,\n",
       "  'DEPTNO': Decimal('30')},\n",
       " {'EMPNO': Decimal('7782'),\n",
       "  'ENAME': 'CLARK',\n",
       "  'JOB': 'MANAGER',\n",
       "  'MGR': Decimal('7839'),\n",
       "  'HIREDATE': datetime.date(1981, 6, 9),\n",
       "  'SAL': Decimal('2450.00'),\n",
       "  'COMM': None,\n",
       "  'DEPTNO': Decimal('10')},\n",
       " {'EMPNO': Decimal('7788'),\n",
       "  'ENAME': 'SCOTT',\n",
       "  'JOB': 'ANALYST',\n",
       "  'MGR': Decimal('7566'),\n",
       "  'HIREDATE': datetime.date(1987, 6, 28),\n",
       "  'SAL': Decimal('3000.00'),\n",
       "  'COMM': None,\n",
       "  'DEPTNO': Decimal('20')},\n",
       " {'EMPNO': Decimal('7839'),\n",
       "  'ENAME': 'KING',\n",
       "  'JOB': 'PRESIDENT',\n",
       "  'MGR': None,\n",
       "  'HIREDATE': datetime.date(1981, 11, 17),\n",
       "  'SAL': Decimal('5000.00'),\n",
       "  'COMM': None,\n",
       "  'DEPTNO': Decimal('10')},\n",
       " {'EMPNO': Decimal('7844'),\n",
       "  'ENAME': 'TURNER',\n",
       "  'JOB': 'SALESMAN',\n",
       "  'MGR': Decimal('7698'),\n",
       "  'HIREDATE': datetime.date(1981, 9, 8),\n",
       "  'SAL': Decimal('1500.00'),\n",
       "  'COMM': Decimal('0.00'),\n",
       "  'DEPTNO': Decimal('30')},\n",
       " {'EMPNO': Decimal('7876'),\n",
       "  'ENAME': 'ADAMS',\n",
       "  'JOB': 'CLERK',\n",
       "  'MGR': Decimal('7788'),\n",
       "  'HIREDATE': datetime.date(1987, 7, 13),\n",
       "  'SAL': Decimal('1100.00'),\n",
       "  'COMM': None,\n",
       "  'DEPTNO': Decimal('20')},\n",
       " {'EMPNO': Decimal('7900'),\n",
       "  'ENAME': 'JAMES',\n",
       "  'JOB': 'CLERK',\n",
       "  'MGR': Decimal('7698'),\n",
       "  'HIREDATE': datetime.date(1981, 12, 3),\n",
       "  'SAL': Decimal('950.00'),\n",
       "  'COMM': None,\n",
       "  'DEPTNO': Decimal('30')},\n",
       " {'EMPNO': Decimal('7902'),\n",
       "  'ENAME': 'FORD',\n",
       "  'JOB': 'ANALYST',\n",
       "  'MGR': Decimal('7566'),\n",
       "  'HIREDATE': datetime.date(1981, 12, 3),\n",
       "  'SAL': Decimal('3000.00'),\n",
       "  'COMM': None,\n",
       "  'DEPTNO': Decimal('20')},\n",
       " {'EMPNO': Decimal('7934'),\n",
       "  'ENAME': 'MILLER',\n",
       "  'JOB': 'CLERK',\n",
       "  'MGR': Decimal('7782'),\n",
       "  'HIREDATE': datetime.date(1982, 1, 23),\n",
       "  'SAL': Decimal('1300.00'),\n",
       "  'COMM': None,\n",
       "  'DEPTNO': Decimal('10')}]"
      ]
     },
     "execution_count": 12,
     "metadata": {},
     "output_type": "execute_result"
    }
   ],
   "source": [
    "sql = \"\"\"\n",
    "        SELECT * FROM emp\n",
    "\"\"\"\n",
    "result = _db.executeAll(sql)\n",
    "result"
   ]
  },
  {
   "cell_type": "code",
   "execution_count": null,
   "metadata": {},
   "outputs": [],
   "source": [
    "db.emp.insert_many(result)"
   ]
  },
  {
   "cell_type": "code",
   "execution_count": null,
   "metadata": {},
   "outputs": [
    {
     "data": {
      "text/plain": [
       "{'_id': ObjectId('6232b71d60cd40a56fec7846'),\n",
       " 'EMPNO': '7369',\n",
       " 'ENAME': 'SMITH',\n",
       " 'JOB': 'CLERK',\n",
       " 'MGR': '7902',\n",
       " 'HIREDATE': '1980-12-17',\n",
       " 'SAL': '800.00',\n",
       " 'DEPTNO': '20'}"
      ]
     },
     "execution_count": 13,
     "metadata": {},
     "output_type": "execute_result"
    }
   ],
   "source": [
    "# find_one() 제일 위에 있는 데이터만 출력\n",
    "db.emp.find_one()"
   ]
  },
  {
   "cell_type": "code",
   "execution_count": null,
   "metadata": {},
   "outputs": [
    {
     "data": {
      "text/plain": [
       "[{'_id': ObjectId('6232b71d60cd40a56fec7846'),\n",
       "  'EMPNO': '7369',\n",
       "  'ENAME': 'SMITH',\n",
       "  'JOB': 'CLERK',\n",
       "  'MGR': '7902',\n",
       "  'HIREDATE': '1980-12-17',\n",
       "  'SAL': '800.00',\n",
       "  'DEPTNO': '20'}]"
      ]
     },
     "execution_count": 14,
     "metadata": {},
     "output_type": "execute_result"
    }
   ],
   "source": [
    "# find = SELECT 기능 , 안에 조건 들어갈 수 있음\n",
    "list(db.emp.find(\n",
    "    {\n",
    "        \"ENAME\" : \"SMITH\"\n",
    "    }\n",
    "))\n",
    "# SELECT * FROM emp WHERE ENAME = \"SMITH\""
   ]
  },
  {
   "cell_type": "markdown",
   "metadata": {},
   "source": [
    "## emp collection\n",
    "## key 값이 EMPNO, ENAME, DEPTNO만 출력이 되도록 코드를 작성"
   ]
  },
  {
   "cell_type": "code",
   "execution_count": null,
   "metadata": {},
   "outputs": [
    {
     "name": "stdout",
     "output_type": "stream",
     "text": [
      "{'_id': ObjectId('6232b71d60cd40a56fec7846'), 'EMPNO': '7369', 'ENAME': 'SMITH', 'DEPTNO': '20'}\n",
      "{'_id': ObjectId('6232b71e60cd40a56fec7847'), 'EMPNO': '7499', 'ENAME': 'ALLEN', 'DEPTNO': '30'}\n",
      "{'_id': ObjectId('6232b71e60cd40a56fec7848'), 'EMPNO': '7521', 'ENAME': 'WARD', 'DEPTNO': '30'}\n",
      "{'_id': ObjectId('6232b71e60cd40a56fec7849'), 'EMPNO': '7566', 'ENAME': 'JONES', 'DEPTNO': '20'}\n",
      "{'_id': ObjectId('6232b71e60cd40a56fec784a'), 'EMPNO': '7654', 'ENAME': 'MARTIN', 'DEPTNO': '30'}\n",
      "{'_id': ObjectId('6232b71e60cd40a56fec784b'), 'EMPNO': '7698', 'ENAME': 'BLAKE', 'DEPTNO': '30'}\n",
      "{'_id': ObjectId('6232b71e60cd40a56fec784c'), 'EMPNO': '7782', 'ENAME': 'CLARK', 'DEPTNO': '10'}\n",
      "{'_id': ObjectId('6232b71e60cd40a56fec784d'), 'EMPNO': '7788', 'ENAME': 'SCOTT', 'DEPTNO': '20'}\n",
      "{'_id': ObjectId('6232b71e60cd40a56fec784e'), 'EMPNO': '7839', 'ENAME': 'KING', 'DEPTNO': '10'}\n",
      "{'_id': ObjectId('6232b71e60cd40a56fec784f'), 'EMPNO': '7844', 'ENAME': 'TURNER', 'DEPTNO': '30'}\n",
      "{'_id': ObjectId('6232b71e60cd40a56fec7850'), 'EMPNO': '7876', 'ENAME': 'ADAMS', 'DEPTNO': '20'}\n",
      "{'_id': ObjectId('6232b71e60cd40a56fec7851'), 'EMPNO': '7900', 'ENAME': 'JAMES', 'DEPTNO': '30'}\n",
      "{'_id': ObjectId('6232b71e60cd40a56fec7852'), 'EMPNO': '7902', 'ENAME': 'FORD', 'DEPTNO': '20'}\n",
      "{'_id': ObjectId('6232b71e60cd40a56fec7853'), 'EMPNO': '7934', 'ENAME': 'MILLER', 'DEPTNO': '10'}\n"
     ]
    }
   ],
   "source": [
    "result = db.emp.find(\n",
    "    { },                     #첫번째 중괄호는 WHERE조건을 쓸 때 사용하는 공간 / 안에 띄어쓰기해야함\n",
    "    {\"EMPNO\" : 1,\n",
    "     \"ENAME\" : 1,\n",
    "     \"DEPTNO\" : 1})      #두번째 중괄호는 COLUMN절/ KEY값을 선택할 수 있는 공간)\n",
    "\n",
    "for list in result:\n",
    "    print(list)\n",
    "    "
   ]
  },
  {
   "cell_type": "code",
   "execution_count": null,
   "metadata": {},
   "outputs": [
    {
     "name": "stdout",
     "output_type": "stream",
     "text": [
      "{'_id': ObjectId('6232b71e60cd40a56fec7850'), 'EMPNO': '7876', 'ENAME': 'ADAMS', 'JOB': 'CLERK', 'MGR': '7788', 'HIREDATE': '1987-07-13', 'SAL': '1100.00', 'DEPTNO': '20'}\n",
      "{'_id': ObjectId('6232b71e60cd40a56fec7847'), 'EMPNO': '7499', 'ENAME': 'ALLEN', 'JOB': 'SALESMAN', 'MGR': '7698', 'HIREDATE': '1981-02-20', 'SAL': '1600.00', 'COMM': '300.00', 'DEPTNO': '30'}\n",
      "{'_id': ObjectId('6232b71e60cd40a56fec784b'), 'EMPNO': '7698', 'ENAME': 'BLAKE', 'JOB': 'MANAGER', 'MGR': '7839', 'HIREDATE': '1981-05-01', 'SAL': '2850.00', 'DEPTNO': '30'}\n",
      "{'_id': ObjectId('6232b71e60cd40a56fec784c'), 'EMPNO': '7782', 'ENAME': 'CLARK', 'JOB': 'MANAGER', 'MGR': '7839', 'HIREDATE': '1981-06-09', 'SAL': '2450.00', 'DEPTNO': '10'}\n",
      "{'_id': ObjectId('6232b71e60cd40a56fec7852'), 'EMPNO': '7902', 'ENAME': 'FORD', 'JOB': 'ANALYST', 'MGR': '7566', 'HIREDATE': '1981-12-03', 'SAL': '3000.00', 'DEPTNO': '20'}\n",
      "{'_id': ObjectId('6232b71e60cd40a56fec7851'), 'EMPNO': '7900', 'ENAME': 'JAMES', 'JOB': 'CLERK', 'MGR': '7698', 'HIREDATE': '1981-12-03', 'SAL': '950.00', 'DEPTNO': '30'}\n",
      "{'_id': ObjectId('6232b71e60cd40a56fec7849'), 'EMPNO': '7566', 'ENAME': 'JONES', 'JOB': 'MANAGER', 'MGR': '7839', 'HIREDATE': '1981-04-02', 'SAL': '2975.00', 'DEPTNO': '20'}\n",
      "{'_id': ObjectId('6232b71e60cd40a56fec784e'), 'EMPNO': '7839', 'ENAME': 'KING', 'JOB': 'PRESIDENT', 'HIREDATE': '1981-11-17', 'SAL': '5000.00', 'DEPTNO': '10'}\n",
      "{'_id': ObjectId('6232b71e60cd40a56fec784a'), 'EMPNO': '7654', 'ENAME': 'MARTIN', 'JOB': 'SALESMAN', 'MGR': '7698', 'HIREDATE': '1981-09-28', 'SAL': '1250.00', 'COMM': '1400.00', 'DEPTNO': '30'}\n",
      "{'_id': ObjectId('6232b71e60cd40a56fec7853'), 'EMPNO': '7934', 'ENAME': 'MILLER', 'JOB': 'CLERK', 'MGR': '7782', 'HIREDATE': '1982-01-23', 'SAL': '1300.00', 'DEPTNO': '10'}\n",
      "{'_id': ObjectId('6232b71e60cd40a56fec784d'), 'EMPNO': '7788', 'ENAME': 'SCOTT', 'JOB': 'ANALYST', 'MGR': '7566', 'HIREDATE': '1987-06-28', 'SAL': '3000.00', 'DEPTNO': '20'}\n",
      "{'_id': ObjectId('6232b71d60cd40a56fec7846'), 'EMPNO': '7369', 'ENAME': 'SMITH', 'JOB': 'CLERK', 'MGR': '7902', 'HIREDATE': '1980-12-17', 'SAL': '800.00', 'DEPTNO': '20'}\n",
      "{'_id': ObjectId('6232b71e60cd40a56fec784f'), 'EMPNO': '7844', 'ENAME': 'TURNER', 'JOB': 'SALESMAN', 'MGR': '7698', 'HIREDATE': '1981-09-08', 'SAL': '1500.00', 'COMM': '0.00', 'DEPTNO': '30'}\n",
      "{'_id': ObjectId('6232b71e60cd40a56fec7848'), 'EMPNO': '7521', 'ENAME': 'WARD', 'JOB': 'SALESMAN', 'MGR': '7698', 'HIREDATE': '1981-02-22', 'SAL': '1250.00', 'COMM': '500.00', 'DEPTNO': '30'}\n"
     ]
    }
   ],
   "source": [
    "result = db.emp.find().sort(\"ENAME\")\n",
    "\n",
    "for list in result:\n",
    "    print(list)\n",
    "\n",
    "# SELECT * FROM emp OREDER BY ENAME"
   ]
  },
  {
   "cell_type": "code",
   "execution_count": null,
   "metadata": {},
   "outputs": [],
   "source": [
    "# 급여가 2000보다 큰 데이터만 출력\n",
    "result = db.emp.find(\n",
    "    { \n",
    "        \"SAL\" : {\n",
    "            \"$gt\": 2000\n",
    "        }\n",
    "    }\n",
    ")\n",
    "\n",
    "for list in result:\n",
    "    print(list)"
   ]
  },
  {
   "cell_type": "code",
   "execution_count": null,
   "metadata": {},
   "outputs": [],
   "source": [
    "# 급여가 2450보다 크거나 같은 데이터만 출력\n",
    "result = db.emp.find(\n",
    "    { \n",
    "        \"SAL\" : {\n",
    "            \"$gte\": 2450\n",
    "        }\n",
    "    }\n",
    ")\n",
    "\n",
    "for list in result:\n",
    "    print(list)"
   ]
  },
  {
   "cell_type": "code",
   "execution_count": null,
   "metadata": {},
   "outputs": [],
   "source": [
    "# 급여가 2450보다 작은 데이터만 출력\n",
    "result = db.emp.find(\n",
    "    { \n",
    "        \"SAL\" : {\n",
    "            \"$lt\": 2450\n",
    "        }\n",
    "    }\n",
    ")\n",
    "\n",
    "for list in result:\n",
    "    print(list)"
   ]
  },
  {
   "cell_type": "code",
   "execution_count": null,
   "metadata": {},
   "outputs": [
    {
     "name": "stdout",
     "output_type": "stream",
     "text": [
      "{'_id': ObjectId('6232b71d60cd40a56fec7846'), 'EMPNO': '7369', 'ENAME': 'SMITH', 'JOB': 'CLERK', 'MGR': '7902', 'HIREDATE': '1980-12-17', 'SAL': '800.00', 'DEPTNO': '20'}\n",
      "{'_id': ObjectId('6232b71e60cd40a56fec7850'), 'EMPNO': '7876', 'ENAME': 'ADAMS', 'JOB': 'CLERK', 'MGR': '7788', 'HIREDATE': '1987-07-13', 'SAL': '1100.00', 'DEPTNO': '20'}\n",
      "{'_id': ObjectId('6232b71e60cd40a56fec7851'), 'EMPNO': '7900', 'ENAME': 'JAMES', 'JOB': 'CLERK', 'MGR': '7698', 'HIREDATE': '1981-12-03', 'SAL': '950.00', 'DEPTNO': '30'}\n",
      "{'_id': ObjectId('6232b71e60cd40a56fec7853'), 'EMPNO': '7934', 'ENAME': 'MILLER', 'JOB': 'CLERK', 'MGR': '7782', 'HIREDATE': '1982-01-23', 'SAL': '1300.00', 'DEPTNO': '10'}\n",
      "{'_id': ObjectId('6232c6d460cd40a56fec7854'), '': '0', 'EMPNO': '7369', 'ENAME': 'SMITH', 'JOB': 'CLERK', 'MGR': '7902', 'HIREDATE': '1980-12-17', 'SAL': '800.00', 'DEPTNO': '20'}\n",
      "{'_id': ObjectId('6232c6d460cd40a56fec785e'), '': '10', 'EMPNO': '7876', 'ENAME': 'ADAMS', 'JOB': 'CLERK', 'MGR': '7788', 'HIREDATE': '1987-07-13', 'SAL': '1100.00', 'DEPTNO': '20'}\n",
      "{'_id': ObjectId('6232c6d460cd40a56fec785f'), '': '11', 'EMPNO': '7900', 'ENAME': 'JAMES', 'JOB': 'CLERK', 'MGR': '7698', 'HIREDATE': '1981-12-03', 'SAL': '950.00', 'DEPTNO': '30'}\n",
      "{'_id': ObjectId('6232c6d460cd40a56fec7861'), '': '13', 'EMPNO': '7934', 'ENAME': 'MILLER', 'JOB': 'CLERK', 'MGR': '7782', 'HIREDATE': '1982-01-23', 'SAL': '1300.00', 'DEPTNO': '10'}\n"
     ]
    }
   ],
   "source": [
    "# SELECT * FROM emp WHERE ENAME = SMITH OR ENAME = ALLEN\n",
    "\n",
    "result = db.emp.find(\n",
    "    {\n",
    "        \"$or\" : [\n",
    "            {\n",
    "                \"ENAME\" : \"SMITH\"\n",
    "            },\n",
    "            {\n",
    "                \"ENAME\" : \"ALLEN\"\n",
    "            }\n",
    "        ]\n",
    "    }\n",
    ")\n",
    "\n",
    "for list in result:\n",
    "    print(list)"
   ]
  },
  {
   "cell_type": "code",
   "execution_count": null,
   "metadata": {},
   "outputs": [
    {
     "name": "stdout",
     "output_type": "stream",
     "text": [
      "{'_id': ObjectId('6232b71d60cd40a56fec7846'), 'EMPNO': '7369', 'ENAME': 'SMITH', 'JOB': 'CLERK', 'MGR': '7902', 'HIREDATE': '1980-12-17', 'SAL': '800.00', 'DEPTNO': '20'}\n",
      "{'_id': ObjectId('6232c6d460cd40a56fec7854'), '': '0', 'EMPNO': '7369', 'ENAME': 'SMITH', 'JOB': 'CLERK', 'MGR': '7902', 'HIREDATE': '1980-12-17', 'SAL': '800.00', 'DEPTNO': '20'}\n"
     ]
    }
   ],
   "source": [
    "# SELECT * FROM emp WHERE ENAME = SMITH AND JOB = CLERK\n",
    "result = db.emp.find(\n",
    "    {\n",
    "        \"ENAME\" : \"SMITH\",\n",
    "        \"JOB\" : \"CLERK\"\n",
    "    }\n",
    ")\n",
    "for list in result:\n",
    "    print(list)"
   ]
  },
  {
   "cell_type": "code",
   "execution_count": 68,
   "metadata": {},
   "outputs": [
    {
     "data": {
      "text/html": [
       "<div>\n",
       "<style scoped>\n",
       "    .dataframe tbody tr th:only-of-type {\n",
       "        vertical-align: middle;\n",
       "    }\n",
       "\n",
       "    .dataframe tbody tr th {\n",
       "        vertical-align: top;\n",
       "    }\n",
       "\n",
       "    .dataframe thead th {\n",
       "        text-align: right;\n",
       "    }\n",
       "</style>\n",
       "<table border=\"1\" class=\"dataframe\">\n",
       "  <thead>\n",
       "    <tr style=\"text-align: right;\">\n",
       "      <th></th>\n",
       "      <th>EMPNO</th>\n",
       "      <th>ENAME</th>\n",
       "      <th>JOB</th>\n",
       "      <th>MGR</th>\n",
       "      <th>HIREDATE</th>\n",
       "      <th>SAL</th>\n",
       "      <th>DEPTNO</th>\n",
       "    </tr>\n",
       "  </thead>\n",
       "  <tbody>\n",
       "    <tr>\n",
       "      <th>0</th>\n",
       "      <td>7566</td>\n",
       "      <td>JONES</td>\n",
       "      <td>MANAGER</td>\n",
       "      <td>7839</td>\n",
       "      <td>1981-04-02</td>\n",
       "      <td>2975.0</td>\n",
       "      <td>20</td>\n",
       "    </tr>\n",
       "    <tr>\n",
       "      <th>1</th>\n",
       "      <td>7698</td>\n",
       "      <td>BLAKE</td>\n",
       "      <td>MANAGER</td>\n",
       "      <td>7839</td>\n",
       "      <td>1981-05-01</td>\n",
       "      <td>2850.0</td>\n",
       "      <td>30</td>\n",
       "    </tr>\n",
       "    <tr>\n",
       "      <th>2</th>\n",
       "      <td>7782</td>\n",
       "      <td>CLARK</td>\n",
       "      <td>MANAGER</td>\n",
       "      <td>7839</td>\n",
       "      <td>1981-06-09</td>\n",
       "      <td>2450.0</td>\n",
       "      <td>10</td>\n",
       "    </tr>\n",
       "    <tr>\n",
       "      <th>3</th>\n",
       "      <td>7788</td>\n",
       "      <td>SCOTT</td>\n",
       "      <td>ANALYST</td>\n",
       "      <td>7566</td>\n",
       "      <td>1987-06-28</td>\n",
       "      <td>3000.0</td>\n",
       "      <td>20</td>\n",
       "    </tr>\n",
       "    <tr>\n",
       "      <th>4</th>\n",
       "      <td>7902</td>\n",
       "      <td>FORD</td>\n",
       "      <td>ANALYST</td>\n",
       "      <td>7566</td>\n",
       "      <td>1981-12-03</td>\n",
       "      <td>3000.0</td>\n",
       "      <td>20</td>\n",
       "    </tr>\n",
       "  </tbody>\n",
       "</table>\n",
       "</div>"
      ],
      "text/plain": [
       "   EMPNO  ENAME      JOB   MGR    HIREDATE     SAL  DEPTNO\n",
       "0   7566  JONES  MANAGER  7839  1981-04-02  2975.0      20\n",
       "1   7698  BLAKE  MANAGER  7839  1981-05-01  2850.0      30\n",
       "2   7782  CLARK  MANAGER  7839  1981-06-09  2450.0      10\n",
       "3   7788  SCOTT  ANALYST  7566  1987-06-28  3000.0      20\n",
       "4   7902   FORD  ANALYST  7566  1981-12-03  3000.0      20"
      ]
     },
     "execution_count": 68,
     "metadata": {},
     "output_type": "execute_result"
    }
   ],
   "source": [
    "# SELECT * FROM emp WHERE SAL >=2000 AND SAL < 4000\n",
    "result = db.emp.find(\n",
    "    {\n",
    "        \"SAL\" : {\n",
    "            \"$gte\" : 2000,\n",
    "            \"$lt\" : 4000\n",
    "        }\n",
    "    },\n",
    "    {\n",
    "        \"_id\" : 0\n",
    "    }\n",
    ")\n",
    "\n",
    "pd.DataFrame(result)"
   ]
  },
  {
   "cell_type": "code",
   "execution_count": 70,
   "metadata": {},
   "outputs": [
    {
     "data": {
      "text/html": [
       "<div>\n",
       "<style scoped>\n",
       "    .dataframe tbody tr th:only-of-type {\n",
       "        vertical-align: middle;\n",
       "    }\n",
       "\n",
       "    .dataframe tbody tr th {\n",
       "        vertical-align: top;\n",
       "    }\n",
       "\n",
       "    .dataframe thead th {\n",
       "        text-align: right;\n",
       "    }\n",
       "</style>\n",
       "<table border=\"1\" class=\"dataframe\">\n",
       "  <thead>\n",
       "    <tr style=\"text-align: right;\">\n",
       "      <th></th>\n",
       "      <th>_id</th>\n",
       "      <th>EMPNO</th>\n",
       "      <th>ENAME</th>\n",
       "      <th>JOB</th>\n",
       "      <th>MGR</th>\n",
       "      <th>HIREDATE</th>\n",
       "      <th>SAL</th>\n",
       "      <th>DEPTNO</th>\n",
       "    </tr>\n",
       "  </thead>\n",
       "  <tbody>\n",
       "    <tr>\n",
       "      <th>0</th>\n",
       "      <td>6232d04260cd40a56fec7864</td>\n",
       "      <td>7369</td>\n",
       "      <td>SMITH</td>\n",
       "      <td>CLERK</td>\n",
       "      <td>7902</td>\n",
       "      <td>1980-12-17</td>\n",
       "      <td>800.0</td>\n",
       "      <td>20</td>\n",
       "    </tr>\n",
       "    <tr>\n",
       "      <th>1</th>\n",
       "      <td>6232d04260cd40a56fec7867</td>\n",
       "      <td>7566</td>\n",
       "      <td>JONES</td>\n",
       "      <td>MANAGER</td>\n",
       "      <td>7839</td>\n",
       "      <td>1981-04-02</td>\n",
       "      <td>2975.0</td>\n",
       "      <td>20</td>\n",
       "    </tr>\n",
       "    <tr>\n",
       "      <th>2</th>\n",
       "      <td>6232d04260cd40a56fec786b</td>\n",
       "      <td>7788</td>\n",
       "      <td>SCOTT</td>\n",
       "      <td>ANALYST</td>\n",
       "      <td>7566</td>\n",
       "      <td>1987-06-28</td>\n",
       "      <td>3000.0</td>\n",
       "      <td>20</td>\n",
       "    </tr>\n",
       "    <tr>\n",
       "      <th>3</th>\n",
       "      <td>6232d04260cd40a56fec786e</td>\n",
       "      <td>7876</td>\n",
       "      <td>ADAMS</td>\n",
       "      <td>CLERK</td>\n",
       "      <td>7788</td>\n",
       "      <td>1987-07-13</td>\n",
       "      <td>1100.0</td>\n",
       "      <td>20</td>\n",
       "    </tr>\n",
       "    <tr>\n",
       "      <th>4</th>\n",
       "      <td>6232d04260cd40a56fec786f</td>\n",
       "      <td>7900</td>\n",
       "      <td>JAMES</td>\n",
       "      <td>CLERK</td>\n",
       "      <td>7698</td>\n",
       "      <td>1981-12-03</td>\n",
       "      <td>950.0</td>\n",
       "      <td>30</td>\n",
       "    </tr>\n",
       "  </tbody>\n",
       "</table>\n",
       "</div>"
      ],
      "text/plain": [
       "                        _id  EMPNO  ENAME      JOB   MGR    HIREDATE     SAL  \\\n",
       "0  6232d04260cd40a56fec7864   7369  SMITH    CLERK  7902  1980-12-17   800.0   \n",
       "1  6232d04260cd40a56fec7867   7566  JONES  MANAGER  7839  1981-04-02  2975.0   \n",
       "2  6232d04260cd40a56fec786b   7788  SCOTT  ANALYST  7566  1987-06-28  3000.0   \n",
       "3  6232d04260cd40a56fec786e   7876  ADAMS    CLERK  7788  1987-07-13  1100.0   \n",
       "4  6232d04260cd40a56fec786f   7900  JAMES    CLERK  7698  1981-12-03   950.0   \n",
       "\n",
       "   DEPTNO  \n",
       "0      20  \n",
       "1      20  \n",
       "2      20  \n",
       "3      20  \n",
       "4      30  "
      ]
     },
     "execution_count": 70,
     "metadata": {},
     "output_type": "execute_result"
    }
   ],
   "source": [
    "# SELECT * FROM emp WHERE ENAME LIKE %S%\n",
    "\n",
    "result = db.emp.find(\n",
    "    {\n",
    "        \"ENAME\" : {\n",
    "            \"$regex\" : \"S\"\n",
    "        }\n",
    "    }\n",
    ")\n",
    "pd.DataFrame(result)"
   ]
  },
  {
   "cell_type": "code",
   "execution_count": 72,
   "metadata": {},
   "outputs": [
    {
     "data": {
      "text/html": [
       "<div>\n",
       "<style scoped>\n",
       "    .dataframe tbody tr th:only-of-type {\n",
       "        vertical-align: middle;\n",
       "    }\n",
       "\n",
       "    .dataframe tbody tr th {\n",
       "        vertical-align: top;\n",
       "    }\n",
       "\n",
       "    .dataframe thead th {\n",
       "        text-align: right;\n",
       "    }\n",
       "</style>\n",
       "<table border=\"1\" class=\"dataframe\">\n",
       "  <thead>\n",
       "    <tr style=\"text-align: right;\">\n",
       "      <th></th>\n",
       "      <th>_id</th>\n",
       "      <th>EMPNO</th>\n",
       "      <th>ENAME</th>\n",
       "      <th>JOB</th>\n",
       "      <th>MGR</th>\n",
       "      <th>HIREDATE</th>\n",
       "      <th>SAL</th>\n",
       "      <th>DEPTNO</th>\n",
       "    </tr>\n",
       "  </thead>\n",
       "  <tbody>\n",
       "    <tr>\n",
       "      <th>0</th>\n",
       "      <td>6232d04260cd40a56fec7864</td>\n",
       "      <td>7369</td>\n",
       "      <td>SMITH</td>\n",
       "      <td>CLERK</td>\n",
       "      <td>7902</td>\n",
       "      <td>1980-12-17</td>\n",
       "      <td>800.0</td>\n",
       "      <td>20</td>\n",
       "    </tr>\n",
       "    <tr>\n",
       "      <th>1</th>\n",
       "      <td>6232d04260cd40a56fec786b</td>\n",
       "      <td>7788</td>\n",
       "      <td>SCOTT</td>\n",
       "      <td>ANALYST</td>\n",
       "      <td>7566</td>\n",
       "      <td>1987-06-28</td>\n",
       "      <td>3000.0</td>\n",
       "      <td>20</td>\n",
       "    </tr>\n",
       "  </tbody>\n",
       "</table>\n",
       "</div>"
      ],
      "text/plain": [
       "                        _id  EMPNO  ENAME      JOB   MGR    HIREDATE     SAL  \\\n",
       "0  6232d04260cd40a56fec7864   7369  SMITH    CLERK  7902  1980-12-17   800.0   \n",
       "1  6232d04260cd40a56fec786b   7788  SCOTT  ANALYST  7566  1987-06-28  3000.0   \n",
       "\n",
       "   DEPTNO  \n",
       "0      20  \n",
       "1      20  "
      ]
     },
     "execution_count": 72,
     "metadata": {},
     "output_type": "execute_result"
    }
   ],
   "source": [
    "# SELECT * FROM emp WHERE ENAME LIKE S%\n",
    "\n",
    "result = db.emp.find(\n",
    "    {\n",
    "        \"ENAME\" : {\n",
    "            \"$regex\" : \"^S\"\n",
    "        }\n",
    "    }\n",
    ")\n",
    "pd.DataFrame(result)"
   ]
  },
  {
   "cell_type": "code",
   "execution_count": 75,
   "metadata": {},
   "outputs": [
    {
     "data": {
      "text/html": [
       "<div>\n",
       "<style scoped>\n",
       "    .dataframe tbody tr th:only-of-type {\n",
       "        vertical-align: middle;\n",
       "    }\n",
       "\n",
       "    .dataframe tbody tr th {\n",
       "        vertical-align: top;\n",
       "    }\n",
       "\n",
       "    .dataframe thead th {\n",
       "        text-align: right;\n",
       "    }\n",
       "</style>\n",
       "<table border=\"1\" class=\"dataframe\">\n",
       "  <thead>\n",
       "    <tr style=\"text-align: right;\">\n",
       "      <th></th>\n",
       "      <th>_id</th>\n",
       "      <th>EMPNO</th>\n",
       "      <th>ENAME</th>\n",
       "      <th>JOB</th>\n",
       "      <th>MGR</th>\n",
       "      <th>HIREDATE</th>\n",
       "      <th>SAL</th>\n",
       "      <th>DEPTNO</th>\n",
       "    </tr>\n",
       "  </thead>\n",
       "  <tbody>\n",
       "    <tr>\n",
       "      <th>0</th>\n",
       "      <td>6232d04260cd40a56fec7867</td>\n",
       "      <td>7566</td>\n",
       "      <td>JONES</td>\n",
       "      <td>MANAGER</td>\n",
       "      <td>7839</td>\n",
       "      <td>1981-04-02</td>\n",
       "      <td>2975.0</td>\n",
       "      <td>20</td>\n",
       "    </tr>\n",
       "    <tr>\n",
       "      <th>1</th>\n",
       "      <td>6232d04260cd40a56fec786e</td>\n",
       "      <td>7876</td>\n",
       "      <td>ADAMS</td>\n",
       "      <td>CLERK</td>\n",
       "      <td>7788</td>\n",
       "      <td>1987-07-13</td>\n",
       "      <td>1100.0</td>\n",
       "      <td>20</td>\n",
       "    </tr>\n",
       "    <tr>\n",
       "      <th>2</th>\n",
       "      <td>6232d04260cd40a56fec786f</td>\n",
       "      <td>7900</td>\n",
       "      <td>JAMES</td>\n",
       "      <td>CLERK</td>\n",
       "      <td>7698</td>\n",
       "      <td>1981-12-03</td>\n",
       "      <td>950.0</td>\n",
       "      <td>30</td>\n",
       "    </tr>\n",
       "  </tbody>\n",
       "</table>\n",
       "</div>"
      ],
      "text/plain": [
       "                        _id  EMPNO  ENAME      JOB   MGR    HIREDATE     SAL  \\\n",
       "0  6232d04260cd40a56fec7867   7566  JONES  MANAGER  7839  1981-04-02  2975.0   \n",
       "1  6232d04260cd40a56fec786e   7876  ADAMS    CLERK  7788  1987-07-13  1100.0   \n",
       "2  6232d04260cd40a56fec786f   7900  JAMES    CLERK  7698  1981-12-03   950.0   \n",
       "\n",
       "   DEPTNO  \n",
       "0      20  \n",
       "1      20  \n",
       "2      30  "
      ]
     },
     "execution_count": 75,
     "metadata": {},
     "output_type": "execute_result"
    }
   ],
   "source": [
    "# SELECT * FROM emp WHERE ENAME LIKE %S%\n",
    "\n",
    "result = db.emp.find(\n",
    "    {\n",
    "        \"ENAME\" : {\n",
    "            \"$regex\" : \"S$\"\n",
    "        }\n",
    "    }\n",
    ")\n",
    "pd.DataFrame(result)"
   ]
  },
  {
   "cell_type": "code",
   "execution_count": 81,
   "metadata": {},
   "outputs": [
    {
     "data": {
      "text/html": [
       "<div>\n",
       "<style scoped>\n",
       "    .dataframe tbody tr th:only-of-type {\n",
       "        vertical-align: middle;\n",
       "    }\n",
       "\n",
       "    .dataframe tbody tr th {\n",
       "        vertical-align: top;\n",
       "    }\n",
       "\n",
       "    .dataframe thead th {\n",
       "        text-align: right;\n",
       "    }\n",
       "</style>\n",
       "<table border=\"1\" class=\"dataframe\">\n",
       "  <thead>\n",
       "    <tr style=\"text-align: right;\">\n",
       "      <th></th>\n",
       "      <th>ENAME</th>\n",
       "      <th>JOB</th>\n",
       "      <th>SAL</th>\n",
       "      <th>DEPTNO</th>\n",
       "    </tr>\n",
       "  </thead>\n",
       "  <tbody>\n",
       "    <tr>\n",
       "      <th>0</th>\n",
       "      <td>ALLEN</td>\n",
       "      <td>SALESMAN</td>\n",
       "      <td>1600.0</td>\n",
       "      <td>30</td>\n",
       "    </tr>\n",
       "    <tr>\n",
       "      <th>1</th>\n",
       "      <td>TURNER</td>\n",
       "      <td>SALESMAN</td>\n",
       "      <td>1500.0</td>\n",
       "      <td>30</td>\n",
       "    </tr>\n",
       "  </tbody>\n",
       "</table>\n",
       "</div>"
      ],
      "text/plain": [
       "    ENAME       JOB     SAL  DEPTNO\n",
       "0   ALLEN  SALESMAN  1600.0      30\n",
       "1  TURNER  SALESMAN  1500.0      30"
      ]
     },
     "execution_count": 81,
     "metadata": {},
     "output_type": "execute_result"
    }
   ],
   "source": [
    "#SELECT ENAME, JOB, SAL, DEPTNO FROM emp \n",
    "# WHERE SAL > 1250 AND \n",
    "# SAL <=3000 AND \n",
    "# JOB = SALESMAN \n",
    "# ORDER BY ENAME\n",
    "\n",
    "\n",
    "result = db.emp.find(\n",
    "    { \n",
    "        \"SAL\" : {\"$gt\" : 1250,\n",
    "        \"$lte\" : 3000},\n",
    "        \"JOB\" : \"SALESMAN\"\n",
    "    },\n",
    "    {\n",
    "        \"ENAME\" : 1,\n",
    "        \"JOB\" : 1,\n",
    "        \"SAL\" : 1,\n",
    "        \"DEPTNO\" : 1,\n",
    "        \"_id\" : 0\n",
    "    }\n",
    ").sort(\"ENAME\")\n",
    "\n",
    "#sort(\"ENAME\",1) 오름차순\n",
    "#sort(\"ENAME\", -1) 내림차순\n",
    "\n",
    "pd.DataFrame(result)"
   ]
  },
  {
   "cell_type": "code",
   "execution_count": 84,
   "metadata": {},
   "outputs": [
    {
     "data": {
      "text/html": [
       "<div>\n",
       "<style scoped>\n",
       "    .dataframe tbody tr th:only-of-type {\n",
       "        vertical-align: middle;\n",
       "    }\n",
       "\n",
       "    .dataframe tbody tr th {\n",
       "        vertical-align: top;\n",
       "    }\n",
       "\n",
       "    .dataframe thead th {\n",
       "        text-align: right;\n",
       "    }\n",
       "</style>\n",
       "<table border=\"1\" class=\"dataframe\">\n",
       "  <thead>\n",
       "    <tr style=\"text-align: right;\">\n",
       "      <th></th>\n",
       "      <th>_id</th>\n",
       "      <th>EMPNO</th>\n",
       "      <th>ENAME</th>\n",
       "      <th>JOB</th>\n",
       "      <th>MGR</th>\n",
       "      <th>HIREDATE</th>\n",
       "      <th>SAL</th>\n",
       "      <th>DEPTNO</th>\n",
       "      <th>COMM</th>\n",
       "    </tr>\n",
       "  </thead>\n",
       "  <tbody>\n",
       "    <tr>\n",
       "      <th>0</th>\n",
       "      <td>6232d04260cd40a56fec7864</td>\n",
       "      <td>7369</td>\n",
       "      <td>SMITH</td>\n",
       "      <td>CLERK</td>\n",
       "      <td>7902.0</td>\n",
       "      <td>1980-12-17</td>\n",
       "      <td>880.0</td>\n",
       "      <td>20</td>\n",
       "      <td>NaN</td>\n",
       "    </tr>\n",
       "    <tr>\n",
       "      <th>1</th>\n",
       "      <td>6232d04260cd40a56fec7865</td>\n",
       "      <td>7499</td>\n",
       "      <td>ALLEN</td>\n",
       "      <td>SALESMAN</td>\n",
       "      <td>7698.0</td>\n",
       "      <td>1981-02-20</td>\n",
       "      <td>1600.0</td>\n",
       "      <td>30</td>\n",
       "      <td>300.0</td>\n",
       "    </tr>\n",
       "    <tr>\n",
       "      <th>2</th>\n",
       "      <td>6232d04260cd40a56fec7866</td>\n",
       "      <td>7521</td>\n",
       "      <td>WARD</td>\n",
       "      <td>SALESMAN</td>\n",
       "      <td>7698.0</td>\n",
       "      <td>1981-02-22</td>\n",
       "      <td>1250.0</td>\n",
       "      <td>30</td>\n",
       "      <td>500.0</td>\n",
       "    </tr>\n",
       "    <tr>\n",
       "      <th>3</th>\n",
       "      <td>6232d04260cd40a56fec7867</td>\n",
       "      <td>7566</td>\n",
       "      <td>JONES</td>\n",
       "      <td>MANAGER</td>\n",
       "      <td>7839.0</td>\n",
       "      <td>1981-04-02</td>\n",
       "      <td>2975.0</td>\n",
       "      <td>20</td>\n",
       "      <td>NaN</td>\n",
       "    </tr>\n",
       "    <tr>\n",
       "      <th>4</th>\n",
       "      <td>6232d04260cd40a56fec7868</td>\n",
       "      <td>7654</td>\n",
       "      <td>MARTIN</td>\n",
       "      <td>SALESMAN</td>\n",
       "      <td>7698.0</td>\n",
       "      <td>1981-09-28</td>\n",
       "      <td>1250.0</td>\n",
       "      <td>30</td>\n",
       "      <td>1400.0</td>\n",
       "    </tr>\n",
       "    <tr>\n",
       "      <th>5</th>\n",
       "      <td>6232d04260cd40a56fec7869</td>\n",
       "      <td>7698</td>\n",
       "      <td>BLAKE</td>\n",
       "      <td>MANAGER</td>\n",
       "      <td>7839.0</td>\n",
       "      <td>1981-05-01</td>\n",
       "      <td>2850.0</td>\n",
       "      <td>30</td>\n",
       "      <td>NaN</td>\n",
       "    </tr>\n",
       "    <tr>\n",
       "      <th>6</th>\n",
       "      <td>6232d04260cd40a56fec786a</td>\n",
       "      <td>7782</td>\n",
       "      <td>CLARK</td>\n",
       "      <td>MANAGER</td>\n",
       "      <td>7839.0</td>\n",
       "      <td>1981-06-09</td>\n",
       "      <td>2450.0</td>\n",
       "      <td>10</td>\n",
       "      <td>NaN</td>\n",
       "    </tr>\n",
       "    <tr>\n",
       "      <th>7</th>\n",
       "      <td>6232d04260cd40a56fec786b</td>\n",
       "      <td>7788</td>\n",
       "      <td>SCOTT</td>\n",
       "      <td>ANALYST</td>\n",
       "      <td>7566.0</td>\n",
       "      <td>1987-06-28</td>\n",
       "      <td>3000.0</td>\n",
       "      <td>20</td>\n",
       "      <td>NaN</td>\n",
       "    </tr>\n",
       "    <tr>\n",
       "      <th>8</th>\n",
       "      <td>6232d04260cd40a56fec786c</td>\n",
       "      <td>7839</td>\n",
       "      <td>KING</td>\n",
       "      <td>PRESIDENT</td>\n",
       "      <td>NaN</td>\n",
       "      <td>1981-11-17</td>\n",
       "      <td>5000.0</td>\n",
       "      <td>10</td>\n",
       "      <td>NaN</td>\n",
       "    </tr>\n",
       "    <tr>\n",
       "      <th>9</th>\n",
       "      <td>6232d04260cd40a56fec786d</td>\n",
       "      <td>7844</td>\n",
       "      <td>TURNER</td>\n",
       "      <td>SALESMAN</td>\n",
       "      <td>7698.0</td>\n",
       "      <td>1981-09-08</td>\n",
       "      <td>1500.0</td>\n",
       "      <td>30</td>\n",
       "      <td>0.0</td>\n",
       "    </tr>\n",
       "    <tr>\n",
       "      <th>10</th>\n",
       "      <td>6232d04260cd40a56fec786e</td>\n",
       "      <td>7876</td>\n",
       "      <td>ADAMS</td>\n",
       "      <td>CLERK</td>\n",
       "      <td>7788.0</td>\n",
       "      <td>1987-07-13</td>\n",
       "      <td>1100.0</td>\n",
       "      <td>20</td>\n",
       "      <td>NaN</td>\n",
       "    </tr>\n",
       "    <tr>\n",
       "      <th>11</th>\n",
       "      <td>6232d04260cd40a56fec786f</td>\n",
       "      <td>7900</td>\n",
       "      <td>JAMES</td>\n",
       "      <td>CLERK</td>\n",
       "      <td>7698.0</td>\n",
       "      <td>1981-12-03</td>\n",
       "      <td>950.0</td>\n",
       "      <td>30</td>\n",
       "      <td>NaN</td>\n",
       "    </tr>\n",
       "    <tr>\n",
       "      <th>12</th>\n",
       "      <td>6232d04260cd40a56fec7870</td>\n",
       "      <td>7902</td>\n",
       "      <td>FORD</td>\n",
       "      <td>ANALYST</td>\n",
       "      <td>7566.0</td>\n",
       "      <td>1981-12-03</td>\n",
       "      <td>3000.0</td>\n",
       "      <td>20</td>\n",
       "      <td>NaN</td>\n",
       "    </tr>\n",
       "    <tr>\n",
       "      <th>13</th>\n",
       "      <td>6232d04260cd40a56fec7871</td>\n",
       "      <td>7934</td>\n",
       "      <td>MILLER</td>\n",
       "      <td>CLERK</td>\n",
       "      <td>7782.0</td>\n",
       "      <td>1982-01-23</td>\n",
       "      <td>1300.0</td>\n",
       "      <td>10</td>\n",
       "      <td>NaN</td>\n",
       "    </tr>\n",
       "  </tbody>\n",
       "</table>\n",
       "</div>"
      ],
      "text/plain": [
       "                         _id  EMPNO   ENAME        JOB     MGR    HIREDATE  \\\n",
       "0   6232d04260cd40a56fec7864   7369   SMITH      CLERK  7902.0  1980-12-17   \n",
       "1   6232d04260cd40a56fec7865   7499   ALLEN   SALESMAN  7698.0  1981-02-20   \n",
       "2   6232d04260cd40a56fec7866   7521    WARD   SALESMAN  7698.0  1981-02-22   \n",
       "3   6232d04260cd40a56fec7867   7566   JONES    MANAGER  7839.0  1981-04-02   \n",
       "4   6232d04260cd40a56fec7868   7654  MARTIN   SALESMAN  7698.0  1981-09-28   \n",
       "5   6232d04260cd40a56fec7869   7698   BLAKE    MANAGER  7839.0  1981-05-01   \n",
       "6   6232d04260cd40a56fec786a   7782   CLARK    MANAGER  7839.0  1981-06-09   \n",
       "7   6232d04260cd40a56fec786b   7788   SCOTT    ANALYST  7566.0  1987-06-28   \n",
       "8   6232d04260cd40a56fec786c   7839    KING  PRESIDENT     NaN  1981-11-17   \n",
       "9   6232d04260cd40a56fec786d   7844  TURNER   SALESMAN  7698.0  1981-09-08   \n",
       "10  6232d04260cd40a56fec786e   7876   ADAMS      CLERK  7788.0  1987-07-13   \n",
       "11  6232d04260cd40a56fec786f   7900   JAMES      CLERK  7698.0  1981-12-03   \n",
       "12  6232d04260cd40a56fec7870   7902    FORD    ANALYST  7566.0  1981-12-03   \n",
       "13  6232d04260cd40a56fec7871   7934  MILLER      CLERK  7782.0  1982-01-23   \n",
       "\n",
       "       SAL  DEPTNO    COMM  \n",
       "0    880.0      20     NaN  \n",
       "1   1600.0      30   300.0  \n",
       "2   1250.0      30   500.0  \n",
       "3   2975.0      20     NaN  \n",
       "4   1250.0      30  1400.0  \n",
       "5   2850.0      30     NaN  \n",
       "6   2450.0      10     NaN  \n",
       "7   3000.0      20     NaN  \n",
       "8   5000.0      10     NaN  \n",
       "9   1500.0      30     0.0  \n",
       "10  1100.0      20     NaN  \n",
       "11   950.0      30     NaN  \n",
       "12  3000.0      20     NaN  \n",
       "13  1300.0      10     NaN  "
      ]
     },
     "execution_count": 84,
     "metadata": {},
     "output_type": "execute_result"
    }
   ],
   "source": [
    "result = db.emp.find()\n",
    "\n",
    "pd.DataFrame(result)"
   ]
  },
  {
   "cell_type": "code",
   "execution_count": 83,
   "metadata": {},
   "outputs": [
    {
     "data": {
      "text/plain": [
       "<pymongo.results.UpdateResult at 0x24372a3aac0>"
      ]
     },
     "execution_count": 83,
     "metadata": {},
     "output_type": "execute_result"
    }
   ],
   "source": [
    "db.emp.update_one(\n",
    "    {\n",
    "        \"ENAME\" : \"SMITH\"\n",
    "    },\n",
    "    {\n",
    "        \"$set\" : {\n",
    "            \"SAL\" : 880\n",
    "        }\n",
    "    }\n",
    ")"
   ]
  },
  {
   "cell_type": "code",
   "execution_count": 85,
   "metadata": {},
   "outputs": [
    {
     "data": {
      "text/html": [
       "<div>\n",
       "<style scoped>\n",
       "    .dataframe tbody tr th:only-of-type {\n",
       "        vertical-align: middle;\n",
       "    }\n",
       "\n",
       "    .dataframe tbody tr th {\n",
       "        vertical-align: top;\n",
       "    }\n",
       "\n",
       "    .dataframe thead th {\n",
       "        text-align: right;\n",
       "    }\n",
       "</style>\n",
       "<table border=\"1\" class=\"dataframe\">\n",
       "  <thead>\n",
       "    <tr style=\"text-align: right;\">\n",
       "      <th></th>\n",
       "      <th>_id</th>\n",
       "      <th>EMPNO</th>\n",
       "      <th>ENAME</th>\n",
       "      <th>JOB</th>\n",
       "      <th>MGR</th>\n",
       "      <th>HIREDATE</th>\n",
       "      <th>SAL</th>\n",
       "      <th>DEPTNO</th>\n",
       "    </tr>\n",
       "  </thead>\n",
       "  <tbody>\n",
       "    <tr>\n",
       "      <th>0</th>\n",
       "      <td>6232d04260cd40a56fec7864</td>\n",
       "      <td>7369</td>\n",
       "      <td>SMITH</td>\n",
       "      <td>CLERK</td>\n",
       "      <td>7902</td>\n",
       "      <td>1980-12-17</td>\n",
       "      <td>880</td>\n",
       "      <td>20</td>\n",
       "    </tr>\n",
       "  </tbody>\n",
       "</table>\n",
       "</div>"
      ],
      "text/plain": [
       "                        _id  EMPNO  ENAME    JOB   MGR    HIREDATE  SAL  \\\n",
       "0  6232d04260cd40a56fec7864   7369  SMITH  CLERK  7902  1980-12-17  880   \n",
       "\n",
       "   DEPTNO  \n",
       "0      20  "
      ]
     },
     "execution_count": 85,
     "metadata": {},
     "output_type": "execute_result"
    }
   ],
   "source": [
    "result = db.emp.find(\n",
    "    {\n",
    "        \"ENAME\" : \"SMITH\"\n",
    "    }\n",
    ")\n",
    "\n",
    "pd.DataFrame(result)"
   ]
  },
  {
   "cell_type": "code",
   "execution_count": 86,
   "metadata": {},
   "outputs": [
    {
     "data": {
      "text/plain": [
       "<pymongo.results.UpdateResult at 0x24372a0f540>"
      ]
     },
     "execution_count": 86,
     "metadata": {},
     "output_type": "execute_result"
    }
   ],
   "source": [
    "db.emp.update_many(\n",
    "    {\n",
    "        \"ENAME\" : \"ALLEN\"\n",
    "    },\n",
    "    {\n",
    "        \"$set\" : {\n",
    "                    \"SAL\" : 2000\n",
    "                }\n",
    "    }\n",
    ")"
   ]
  },
  {
   "cell_type": "code",
   "execution_count": 87,
   "metadata": {},
   "outputs": [
    {
     "data": {
      "text/html": [
       "<div>\n",
       "<style scoped>\n",
       "    .dataframe tbody tr th:only-of-type {\n",
       "        vertical-align: middle;\n",
       "    }\n",
       "\n",
       "    .dataframe tbody tr th {\n",
       "        vertical-align: top;\n",
       "    }\n",
       "\n",
       "    .dataframe thead th {\n",
       "        text-align: right;\n",
       "    }\n",
       "</style>\n",
       "<table border=\"1\" class=\"dataframe\">\n",
       "  <thead>\n",
       "    <tr style=\"text-align: right;\">\n",
       "      <th></th>\n",
       "      <th>_id</th>\n",
       "      <th>EMPNO</th>\n",
       "      <th>ENAME</th>\n",
       "      <th>JOB</th>\n",
       "      <th>MGR</th>\n",
       "      <th>HIREDATE</th>\n",
       "      <th>SAL</th>\n",
       "      <th>COMM</th>\n",
       "      <th>DEPTNO</th>\n",
       "    </tr>\n",
       "  </thead>\n",
       "  <tbody>\n",
       "    <tr>\n",
       "      <th>0</th>\n",
       "      <td>6232d04260cd40a56fec7865</td>\n",
       "      <td>7499</td>\n",
       "      <td>ALLEN</td>\n",
       "      <td>SALESMAN</td>\n",
       "      <td>7698</td>\n",
       "      <td>1981-02-20</td>\n",
       "      <td>2000</td>\n",
       "      <td>300.0</td>\n",
       "      <td>30</td>\n",
       "    </tr>\n",
       "  </tbody>\n",
       "</table>\n",
       "</div>"
      ],
      "text/plain": [
       "                        _id  EMPNO  ENAME       JOB   MGR    HIREDATE   SAL  \\\n",
       "0  6232d04260cd40a56fec7865   7499  ALLEN  SALESMAN  7698  1981-02-20  2000   \n",
       "\n",
       "    COMM  DEPTNO  \n",
       "0  300.0      30  "
      ]
     },
     "execution_count": 87,
     "metadata": {},
     "output_type": "execute_result"
    }
   ],
   "source": [
    "result = db.emp.find(\n",
    "    {\"ENAME\" : \"ALLEN\"}\n",
    ")\n",
    "pd.DataFrame(result)"
   ]
  },
  {
   "cell_type": "code",
   "execution_count": 88,
   "metadata": {},
   "outputs": [
    {
     "data": {
      "text/plain": [
       "<pymongo.results.DeleteResult at 0x24372a19740>"
      ]
     },
     "execution_count": 88,
     "metadata": {},
     "output_type": "execute_result"
    }
   ],
   "source": [
    "db.emp.delete_one(\n",
    "    {\n",
    "        \"JOB\" : \"PRESIDENT\"\n",
    "    }\n",
    ")"
   ]
  },
  {
   "cell_type": "code",
   "execution_count": 92,
   "metadata": {},
   "outputs": [
    {
     "data": {
      "text/html": [
       "<div>\n",
       "<style scoped>\n",
       "    .dataframe tbody tr th:only-of-type {\n",
       "        vertical-align: middle;\n",
       "    }\n",
       "\n",
       "    .dataframe tbody tr th {\n",
       "        vertical-align: top;\n",
       "    }\n",
       "\n",
       "    .dataframe thead th {\n",
       "        text-align: right;\n",
       "    }\n",
       "</style>\n",
       "<table border=\"1\" class=\"dataframe\">\n",
       "  <thead>\n",
       "    <tr style=\"text-align: right;\">\n",
       "      <th></th>\n",
       "    </tr>\n",
       "  </thead>\n",
       "  <tbody>\n",
       "  </tbody>\n",
       "</table>\n",
       "</div>"
      ],
      "text/plain": [
       "Empty DataFrame\n",
       "Columns: []\n",
       "Index: []"
      ]
     },
     "execution_count": 92,
     "metadata": {},
     "output_type": "execute_result"
    }
   ],
   "source": [
    "result = db.emp.find(\n",
    "    {\n",
    "        \"JOB\" : \"PRESIDENT\"\n",
    "    }\n",
    ")\n",
    "pd.DataFrame(result)"
   ]
  },
  {
   "cell_type": "code",
   "execution_count": 93,
   "metadata": {},
   "outputs": [
    {
     "data": {
      "text/plain": [
       "<pymongo.results.DeleteResult at 0x24372a1c6c0>"
      ]
     },
     "execution_count": 93,
     "metadata": {},
     "output_type": "execute_result"
    }
   ],
   "source": [
    "db.emp.delete_many(\n",
    "    {\n",
    "        \"ENAME\" : \"WARD\"\n",
    "    }\n",
    ")"
   ]
  },
  {
   "cell_type": "code",
   "execution_count": 94,
   "metadata": {},
   "outputs": [
    {
     "data": {
      "text/html": [
       "<div>\n",
       "<style scoped>\n",
       "    .dataframe tbody tr th:only-of-type {\n",
       "        vertical-align: middle;\n",
       "    }\n",
       "\n",
       "    .dataframe tbody tr th {\n",
       "        vertical-align: top;\n",
       "    }\n",
       "\n",
       "    .dataframe thead th {\n",
       "        text-align: right;\n",
       "    }\n",
       "</style>\n",
       "<table border=\"1\" class=\"dataframe\">\n",
       "  <thead>\n",
       "    <tr style=\"text-align: right;\">\n",
       "      <th></th>\n",
       "    </tr>\n",
       "  </thead>\n",
       "  <tbody>\n",
       "  </tbody>\n",
       "</table>\n",
       "</div>"
      ],
      "text/plain": [
       "Empty DataFrame\n",
       "Columns: []\n",
       "Index: []"
      ]
     },
     "execution_count": 94,
     "metadata": {},
     "output_type": "execute_result"
    }
   ],
   "source": [
    "result = db.emp.find(\n",
    "    {\n",
    "        \"ENAME\" : \"WARD\"\n",
    "    }\n",
    ")\n",
    "pd.DataFrame(result)"
   ]
  },
  {
   "cell_type": "code",
   "execution_count": null,
   "metadata": {},
   "outputs": [],
   "source": []
  },
  {
   "cell_type": "code",
   "execution_count": null,
   "metadata": {},
   "outputs": [],
   "source": []
  },
  {
   "cell_type": "code",
   "execution_count": null,
   "metadata": {},
   "outputs": [],
   "source": []
  },
  {
   "cell_type": "code",
   "execution_count": null,
   "metadata": {},
   "outputs": [],
   "source": []
  },
  {
   "cell_type": "code",
   "execution_count": null,
   "metadata": {},
   "outputs": [],
   "source": []
  }
 ],
 "metadata": {
  "interpreter": {
   "hash": "178a3f30f1260fd802957bede53c671b8ea3e1a8feec185343992868dc57f060"
  },
  "kernelspec": {
   "display_name": "Python 3.10.2 64-bit",
   "language": "python",
   "name": "python3"
  },
  "language_info": {
   "codemirror_mode": {
    "name": "ipython",
    "version": 3
   },
   "file_extension": ".py",
   "mimetype": "text/x-python",
   "name": "python",
   "nbconvert_exporter": "python",
   "pygments_lexer": "ipython3",
   "version": "3.10.2"
  },
  "orig_nbformat": 4
 },
 "nbformat": 4,
 "nbformat_minor": 2
}
